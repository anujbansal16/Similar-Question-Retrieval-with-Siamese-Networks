{
  "nbformat": 4,
  "nbformat_minor": 0,
  "metadata": {
    "colab": {
      "name": "Copy of Siamese.ipynb",
      "version": "0.3.2",
      "provenance": [],
      "collapsed_sections": [],
      "include_colab_link": true
    },
    "language_info": {
      "codemirror_mode": {
        "name": "ipython",
        "version": 3
      },
      "file_extension": ".py",
      "mimetype": "text/x-python",
      "name": "python",
      "nbconvert_exporter": "python",
      "pygments_lexer": "ipython3",
      "version": "3.7.1"
    },
    "kernelspec": {
      "name": "python3",
      "display_name": "Python 3"
    },
    "accelerator": "GPU"
  },
  "cells": [
    {
      "cell_type": "markdown",
      "metadata": {
        "id": "view-in-github",
        "colab_type": "text"
      },
      "source": [
        "<a href=\"https://colab.research.google.com/github/devloper13/SiameseNetworkProject/blob/master/Copy_of_Siamese.ipynb\" target=\"_parent\"><img src=\"https://colab.research.google.com/assets/colab-badge.svg\" alt=\"Open In Colab\"/></a>"
      ]
    },
    {
      "cell_type": "markdown",
      "metadata": {
        "id": "o5SKv74zumzb",
        "colab_type": "text"
      },
      "source": [
        "# Siamese Network Code \n",
        "\n",
        "The following modules in python has been used \n",
        "<ul>\n",
        "  <li>Tensorflow for constructing Siamese Networks</li>\n",
        "  <li>NLTK library for stemming and stop words removal</li>\n",
        "  <li>Google Drive library for data strage</li>\n",
        "  <li>Scikit, Numpy and Pandas for misc. tensor computations</li>\n",
        "<ul>\n",
        "  "
      ]
    },
    {
      "cell_type": "code",
      "metadata": {
        "colab_type": "code",
        "id": "sWwewmyoKBOK",
        "colab": {}
      },
      "source": [
        "from __future__ import absolute_import\n",
        "from __future__ import division\n",
        "from __future__ import print_function\n",
        "from builtins import input\n",
        "\n",
        "#import system things\n",
        "from tensorflow.examples.tutorials.mnist import input_data # for data\n",
        "import tensorflow as tf\n",
        "import numpy as np\n",
        "import os\n",
        "import keras\n",
        "\n",
        "\n",
        "# Code to read csv file into Colaboratory:\n",
        "!pip install -U -q PyDrive\n",
        "import tensorflow as tf\n",
        "from pydrive.auth import GoogleAuth\n",
        "from pydrive.drive import GoogleDrive\n",
        "from google.colab import auth\n",
        "from oauth2client.client import GoogleCredentials\n",
        "import pandas as pd\n",
        "import pickle\n",
        "# Authenticate and create the PyDrive client.\n",
        "auth.authenticate_user()\n",
        "gauth = GoogleAuth()\n",
        "gauth.credentials = GoogleCredentials.get_application_default()\n",
        "drive = GoogleDrive(gauth)"
      ],
      "execution_count": 0,
      "outputs": []
    },
    {
      "cell_type": "code",
      "metadata": {
        "colab_type": "code",
        "id": "cd76XW7KpHCy",
        "outputId": "cdb37ab4-523a-4313-c39d-a5fbbf634d95",
        "colab": {
          "base_uri": "https://localhost:8080/",
          "height": 86
        }
      },
      "source": [
        "from sklearn.feature_extraction.text import CountVectorizer\n",
        "from nltk.util import ngrams\n",
        "import nltk\n",
        "nltk.download('stopwords')\n",
        "\n",
        "nltk.download('punkt')\n",
        "\n",
        "from nltk.tokenize import word_tokenize\n",
        "from nltk.corpus import stopwords\n",
        "from nltk.stem import PorterStemmer\n",
        "from tqdm import tqdm\n",
        "import string"
      ],
      "execution_count": 0,
      "outputs": [
        {
          "output_type": "stream",
          "text": [
            "[nltk_data] Downloading package stopwords to /root/nltk_data...\n",
            "[nltk_data]   Package stopwords is already up-to-date!\n",
            "[nltk_data] Downloading package punkt to /root/nltk_data...\n",
            "[nltk_data]   Package punkt is already up-to-date!\n"
          ],
          "name": "stdout"
        }
      ]
    },
    {
      "cell_type": "markdown",
      "metadata": {
        "id": "PpbKs-NxHTnp",
        "colab_type": "text"
      },
      "source": [
        "# Siamese Network Implementaiton\n",
        "\n",
        "Implementation is mostly done using barebones tensorflow with tensor variables, placeholders and constants . No predefined library was used in this implementation. The structure below is not a generic siamese network but can be made one by generalizing a few parameters."
      ]
    },
    {
      "cell_type": "code",
      "metadata": {
        "colab_type": "code",
        "id": "ZoYoHnhXx2zt",
        "colab": {}
      },
      "source": [
        "idim = 30628\n",
        "\n",
        "class Siamese:\n",
        "\n",
        "    # Create model\n",
        "    def __init__(self,dname=\"Siamese\"):\n",
        "        self.x1 = tf.placeholder(tf.float32, [None, idim])\n",
        "        self.x2 = tf.placeholder(tf.float32, [None, idim])\n",
        "\n",
        "        with tf.variable_scope(dname) as scope:\n",
        "            self.o1 = self.network(self.x1)\n",
        "            scope.reuse_variables()\n",
        "            self.o2 = self.network(self.x2)\n",
        "\n",
        "        # Create loss\n",
        "        self.y_ = tf.placeholder(tf.float32, [None])\n",
        "        #self.y_ = tf.placeholder(tf.int32, [None])\n",
        "        self.loss = self.cosineLoss()\n",
        "\n",
        "    #create the network \n",
        "    def network(self, x):\n",
        "        \n",
        "        x = tf.reshape(x,shape=[-1,1,idim,1])\n",
        "        activated_conv1 = self.conv_layer('conv_1',x,3)\n",
        "        maxpool1 = self.maxpool_layer('maxp_1',activated_conv1)\n",
        "        \n",
        "        flattened_conv = tf.layers.flatten(maxpool1)   #To be removed\n",
        "        activated_fc1 = self.fc_layer( \"fc1\",flattened_conv, 128)\n",
        "        #activated_fc2 = self.fc_layer(\"fc2\",activated_fc1, 1024)\n",
        "        #activated_fc3 = self.fc_layer(\"fc3\",activated_fc2, 2)\n",
        "        \n",
        "        return activated_fc1\n",
        "        \n",
        "    #create the convolution layer \n",
        "    def conv_layer(self,name,inputs,cur_channel):\n",
        "        #print(inputs.get_shape())\n",
        "        prev_channel = inputs.get_shape()[-1]\n",
        "        #print(prev_channel)\n",
        "        init = tf.variance_scaling_initializer(scale=2.0)\n",
        "        w = tf.get_variable(name+\"_w\",dtype=tf.float32,shape=[1,10,prev_channel,cur_channel],initializer=init)\n",
        "        b = tf.get_variable(name+\"_b\",dtype=tf.float32,shape=[cur_channel],initializer = init)\n",
        "        conv = tf.nn.conv2d(inputs,w,strides=[1,1,1,1],padding = \"SAME\")\n",
        "        activation = conv+b\n",
        "        return activation  \n",
        "      \n",
        "    def maxpool_layer(self,name,inputs):\n",
        "        return tf.nn.relu(tf.nn.max_pool(inputs,ksize=[1,1,100,1],strides=[1,1,100,1],padding=\"SAME\"))  \n",
        "    \n",
        "    def fc_layer(self,name,inputs,cur_layer):\n",
        "        print(inputs.get_shape())\n",
        "        prev_layer = inputs.get_shape()[-1]\n",
        "        init = tf.truncated_normal_initializer(stddev=0.01)\n",
        "        w = tf.get_variable(name+\"_w\",dtype=tf.float32,shape=[prev_layer,cur_layer],initializer=init)\n",
        "        b = tf.get_variable(name+\"_b\",dtype=tf.float32,shape=[cur_layer],initializer=init)\n",
        "        activation = tf.matmul(inputs,w)+b\n",
        "        return activation\n",
        "    \n",
        "        \n",
        "    def cosineLoss(self):\n",
        "        \n",
        "        norms1 = tf.norm(self.o1,axis=1)\n",
        "        norms2 = tf.norm(self.o2,axis=1)\n",
        "        norm = tf.multiply(norms1,norms2)\n",
        "        cosines = tf.div(tf.reduce_sum(tf.multiply(self.o1,self.o2),axis=1),norm)\n",
        "        \n",
        "        labels_t = self.y_\n",
        "        labels_f = tf.subtract(1.0, self.y_, name=\"1-yi\")          # labels_ = !labels;\n",
        "        \n",
        "        \n",
        "        C = tf.constant(0.5, name=\"C\")\n",
        "        \n",
        "        pos = tf.multiply(labels_t,tf.subtract(1.0,cosines), name=\"yi_x_cosine\")\n",
        "        \n",
        "        neg = tf.multiply(labels_f, tf.maximum(tf.subtract(cosines,C),0), name=\"Nyi_x_C-cosine\")\n",
        "        losses = tf.add(pos, neg, name=\"losses\")\n",
        "        loss = tf.reduce_mean(losses, name=\"loss\")\n",
        "        return loss\n",
        "        \n",
        "\n",
        "          "
      ],
      "execution_count": 0,
      "outputs": []
    },
    {
      "cell_type": "markdown",
      "metadata": {
        "id": "VvefB7RvORvC",
        "colab_type": "text"
      },
      "source": [
        "### Get Pickled Dictionary stored in Drive\n"
      ]
    },
    {
      "cell_type": "code",
      "metadata": {
        "colab_type": "code",
        "id": "GNX5a8KeKBOu",
        "outputId": "d598c1bf-8da2-42ce-d9e8-994bc5dfde3d",
        "colab": {
          "base_uri": "https://localhost:8080/",
          "height": 34
        }
      },
      "source": [
        "link=\"https://drive.google.com/open?id=1Jhj9OazxPnvLcuuZsZvNFfpnnsFg88I7\"\n",
        "fluff, id = link.split('=')\n",
        "downloaded = drive.CreateFile({'id':id}) \n",
        "downloaded.GetContentFile('three_hash')  \n",
        "with open('three_hash','rb') as f:\n",
        "   three_hash_dict = pickle.load(f)\n",
        "print(len(three_hash_dict))"
      ],
      "execution_count": 0,
      "outputs": [
        {
          "output_type": "stream",
          "text": [
            "30628\n"
          ],
          "name": "stdout"
        }
      ]
    },
    {
      "cell_type": "markdown",
      "metadata": {
        "id": "1Ocjg2ZXOb6S",
        "colab_type": "text"
      },
      "source": [
        "### Three hash generation function\n",
        "\n",
        "This function takes the text and tokenizes it, performs steming and stop words removal using NLTK. "
      ]
    },
    {
      "cell_type": "code",
      "metadata": {
        "colab_type": "code",
        "id": "kt-JQ95JojbW",
        "colab": {}
      },
      "source": [
        "stop_words = set(stopwords.words('english')) \n",
        "def getThreeHash(text):\n",
        "  vectorizer = CountVectorizer()\n",
        "  tokenizer=vectorizer.build_tokenizer()\n",
        "  \n",
        "  hashes=\"\"\n",
        "  tokens=tokenizer(text)\n",
        "  ps = PorterStemmer()\n",
        "  tokens = [ps.stem(word) for word in tokens]\n",
        "  for token in tokens:\n",
        "    if token not in stop_words:\n",
        "      tokenModi=\"#\"+token+\"#\"\n",
        "      output = list(ngrams(tokenModi, 3))\n",
        "      for a in output:\n",
        "        hashes+=(''.join(a))+\" \"\n",
        "  \n",
        "  return(hashes)\n"
      ],
      "execution_count": 0,
      "outputs": []
    },
    {
      "cell_type": "markdown",
      "metadata": {
        "id": "zHnVKtSGOtz8",
        "colab_type": "text"
      },
      "source": [
        "### Get Data Set"
      ]
    },
    {
      "cell_type": "code",
      "metadata": {
        "colab_type": "code",
        "id": "bFQrr4tINCx2",
        "outputId": "37e78fce-5a73-48c6-c9b1-c0e799b889fc",
        "colab": {
          "base_uri": "https://localhost:8080/",
          "height": 34
        }
      },
      "source": [
        "link=\"https://drive.google.com/open?id=17VMN5CJA05vTPEs15gw-W2ocxmEITQEH\" #create shareable link of google drive file\n",
        "fluff, id = link.split('=')\n",
        "print (id) # Verify that you have everything after '='\n",
        "\n",
        "downloaded = drive.CreateFile({'id':id}) \n",
        "downloaded.GetContentFile('QA.csv')  \n",
        "ndata = pd.read_csv('QA.csv',error_bad_lines=False).values\n"
      ],
      "execution_count": 0,
      "outputs": [
        {
          "output_type": "stream",
          "text": [
            "17VMN5CJA05vTPEs15gw-W2ocxmEITQEH\n"
          ],
          "name": "stdout"
        }
      ]
    },
    {
      "cell_type": "markdown",
      "metadata": {
        "id": "fKboKIIMOzxo",
        "colab_type": "text"
      },
      "source": [
        "### Take only a subset as training"
      ]
    },
    {
      "cell_type": "code",
      "metadata": {
        "colab_type": "code",
        "id": "4OzxqKw47mcT",
        "colab": {}
      },
      "source": [
        "data = ndata[:15000,1:]"
      ],
      "execution_count": 0,
      "outputs": []
    },
    {
      "cell_type": "markdown",
      "metadata": {
        "id": "m-jVsYHKO5Q0",
        "colab_type": "text"
      },
      "source": [
        "### Cosine Distance SImilarity \n",
        "\n",
        "This is done so that systactically similar questions are taken into consideration. The distance metric used is a cosine distance on simple word hashed representation of texts."
      ]
    },
    {
      "cell_type": "code",
      "metadata": {
        "id": "9u09aOmJXNfY",
        "colab_type": "code",
        "colab": {}
      },
      "source": [
        "def preprocess(text):\n",
        "    tokens = word_tokenize(text)\n",
        "    tokenlower = [word.lower() for word in tokens]\n",
        "    \n",
        "    stopWords = set(stopwords.words('english'))\n",
        "    tokenlower = [word for word in stopWords if word not in stopWords]\n",
        "    \n",
        "    tokenDict = nltk.defaultdict(int)\n",
        "    for word in tokens:\n",
        "        tokenDict[word] += 1\n",
        "    return tokenDict\n",
        "\n",
        "def cosDistance(v1,v2):\n",
        "    dotProduct = np.dot(v1,v2)\n",
        "    normV1 = np.linalg.norm(v1)\n",
        "    normV2 = np.linalg.norm(v2)\n",
        "#     print(dotProduct,normV1,normV2)\n",
        "    return dotProduct / (normV1 * normV2)\n",
        "\n",
        "def getSimilarity(vDict1,vDict2):\n",
        "    allWords = []\n",
        "    for key in vDict1:\n",
        "        allWords.append(key)\n",
        "    for key in vDict2:\n",
        "        allWords.append(key)\n",
        "    allWordsSize = len(allWords)\n",
        "    \n",
        "    v1 = np.zeros(allWordsSize,dtype=np.int)\n",
        "    v2 = np.zeros(allWordsSize,dtype=np.int)\n",
        "    \n",
        "    i = 0\n",
        "    for key in allWords:\n",
        "#         print(key)\n",
        "        v1[i] = vDict1.get(key, 0)\n",
        "        v2[i] = vDict2.get(key, 0)\n",
        "        i += 1\n",
        "#     print(v1,v2)    \n",
        "    return cosDistance(v1,v2)"
      ],
      "execution_count": 0,
      "outputs": []
    },
    {
      "cell_type": "markdown",
      "metadata": {
        "id": "QTXCXyVpPyQE",
        "colab_type": "text"
      },
      "source": [
        "### Batch Creation and vectorization of text"
      ]
    },
    {
      "cell_type": "code",
      "metadata": {
        "colab_type": "code",
        "id": "HwGPkK3SON0N",
        "colab": {}
      },
      "source": [
        "def vectorize(hashString,dictionary):\n",
        "  \n",
        "  vectorizer = CountVectorizer()\n",
        "  tokenizer = vectorizer.build_tokenizer()\n",
        "  vec = [0]*idim\n",
        "  \n",
        "  for token in tokenizer(hashString):\n",
        "    try:\n",
        "      vec[dictionary[token]] += 1\n",
        "    except:\n",
        "      pass\n",
        "    \n",
        "  return vec\n",
        "\n",
        "def createBatch(data,goodSet,badSetQues,badSetAns,dictionary):\n",
        "  \n",
        "  good_data = data[goodSet]\n",
        "  bad_quest = data[badSetQues,0]\n",
        "  bad_anser = data[badSetAns,1]\n",
        "  questions = np.concatenate((good_data[:,0],bad_quest))\n",
        "  answers = np.concatenate((good_data[:,1],bad_anser))\n",
        "  label = np.array([1]*good_data.shape[0] + [0]*bad_quest.shape[0])\n",
        "  \n",
        "  ques,ans = [],[]\n",
        "  for d in questions:\n",
        "    ques += [vectorize(getThreeHash(d.lower()),dictionary)]\n",
        "  for i,d in enumerate(answers):\n",
        "    ans += [vectorize(getThreeHash(str(d).lower()),dictionary)]\n",
        "  return np.array(ques),np.array(ans),label\n",
        "    \n",
        "def getRandomBatch(data,batchsize,dictionary,good_bad=0.5):\n",
        "  \n",
        "  goodSet = np.random.permutation(data.shape[0])[:int(batchsize*good_bad)]\n",
        "  badSetQues = np.random.permutation(data.shape[0])[:batchsize - int(batchsize*good_bad)]\n",
        "  badSetAns = np.random.permutation(data.shape[0])[:batchsize - int(batchsize*good_bad)]\n",
        "  return createBatch(data,goodSet,badSetQues,badSetAns,dictionary)\n",
        "  \n",
        "\n",
        "    "
      ],
      "execution_count": 0,
      "outputs": []
    },
    {
      "cell_type": "markdown",
      "metadata": {
        "id": "Pc_BuyTKQUGi",
        "colab_type": "text"
      },
      "source": [
        "### Initializing Siamese networks and optimizer"
      ]
    },
    {
      "cell_type": "code",
      "metadata": {
        "id": "2fI2XdkYUpxY",
        "colab_type": "code",
        "outputId": "a97b2040-d396-426a-ad97-1eeffe90c389",
        "colab": {
          "base_uri": "https://localhost:8080/",
          "height": 52
        }
      },
      "source": [
        "tf.reset_default_graph()\n",
        "siamese = Siamese('siamese6')\n",
        "try:\n",
        "  sess.close()\n",
        "except:\n",
        "  pass\n",
        "sess = tf.InteractiveSession()\n",
        "train_Step = tf.train.MomentumOptimizer(0.01,0.05).minimize(siamese.loss)\n",
        "tf.initialize_all_variables().run()"
      ],
      "execution_count": 0,
      "outputs": [
        {
          "output_type": "stream",
          "text": [
            "(?, 921)\n",
            "(?, 921)\n"
          ],
          "name": "stdout"
        }
      ]
    },
    {
      "cell_type": "markdown",
      "metadata": {
        "id": "rtu0mur1QZe2",
        "colab_type": "text"
      },
      "source": [
        "### Training with siamese Networs"
      ]
    },
    {
      "cell_type": "code",
      "metadata": {
        "colab_type": "code",
        "id": "wXmBCVN0V3hv",
        "colab": {}
      },
      "source": [
        "def trainSiameseNetwork(data,siamese,sess,batchSize,epochs,dictionary):\n",
        "  \n",
        "  #Siamese Network\n",
        "  #sess = tf.Session()\n",
        "  #tf.reset_default_graph()\n",
        "  #siamese = Siamese()\n",
        "  \n",
        "  while epochs > 0:\n",
        "    \n",
        "    avg = 0.0\n",
        "    permSet = np.random.permutation(data.shape[0])\n",
        "\n",
        "    for p in range(0,permSet.shape[0],batchSize):\n",
        "\n",
        "      goodSet = np.array(list(range(p,p+batchSize)))\n",
        "      badSetQ = goodSet.copy()\n",
        "      badSetA = np.array(permSet[p:p+batchSize])\n",
        "      ques,ans,labl = createBatch(data,goodSet,badSetQ,badSetA,dictionary)\n",
        "\n",
        "\n",
        "      #print(ques.shape,ans.shape,labl.shape)\n",
        "      _, Loss = sess.run([train_Step,siamese.loss], feed_dict={\n",
        "                    siamese.x1: ques,\n",
        "                    siamese.x2: ans,\n",
        "                    siamese.y_: labl})\n",
        "      avg += Loss\n",
        "      #print(\"Epoch\",epochs,\"Batch\",p/batchSize,\"Loss\",Loss)\n",
        "    \n",
        "    print(\"Average Epoch \",epochs,\"Loss \",avg/(data.shape[0]/batchSize))\n",
        "    epochs -= 1\n",
        "        "
      ],
      "execution_count": 0,
      "outputs": []
    },
    {
      "cell_type": "code",
      "metadata": {
        "id": "X8_vJYXycs0P",
        "colab_type": "code",
        "colab": {}
      },
      "source": [
        "def predict(qset,ques,siamese,sess,dictionary,alpha=0.5,best=3):\n",
        "  \n",
        "  vques  = preprocess(ques)\n",
        "  thQues = np.array(vectorize(getThreeHash(ques.lower()),dictionary)).reshape(1,-1)\n",
        "\n",
        "  scores = []\n",
        "\n",
        "  for q in qset:\n",
        "\n",
        "    oQues = np.array(vectorize(getThreeHash(str(q).lower()),dictionary)).reshape(1,-1)\n",
        "    vQues = preprocess(q)\n",
        "    Loss = sess.run([siamese.loss],feed_dict={\n",
        "                    siamese.x1: thQues,\n",
        "                    siamese.x2: oQues,\n",
        "                    siamese.y_: np.array([1.0])})\n",
        "    tLoss = getSimilarity(vques,vQues)\n",
        "    #print(alpha*Loss[0],(1-alpha)*(1-tLoss))\n",
        "    scores += [alpha*Loss[0] + (1-alpha)*(1-tLoss)]\n",
        "\n",
        "  sscores = np.argsort(np.array(scores))[:best]\n",
        "  return qset[sscores],scores\n",
        "  "
      ],
      "execution_count": 0,
      "outputs": []
    },
    {
      "cell_type": "markdown",
      "metadata": {
        "id": "Sa67sxPHQDl4",
        "colab_type": "text"
      },
      "source": [
        "## Training With Data"
      ]
    },
    {
      "cell_type": "code",
      "metadata": {
        "colab_type": "code",
        "id": "scF-b7JY8NQW",
        "outputId": "95bf0450-fa1f-48b4-f719-99bbee1a5f70",
        "colab": {
          "base_uri": "https://localhost:8080/",
          "height": 538
        }
      },
      "source": [
        "\n",
        "trainSiameseNetwork(data,siamese,sess,100,30,three_hash_dict)"
      ],
      "execution_count": 0,
      "outputs": [
        {
          "output_type": "stream",
          "text": [
            "Average Epoch  30 Loss  0.2212472610672315\n",
            "Average Epoch  29 Loss  0.21664690911769868\n",
            "Average Epoch  28 Loss  0.2160269269347191\n",
            "Average Epoch  27 Loss  0.21272770444552103\n",
            "Average Epoch  26 Loss  0.20940782397985458\n",
            "Average Epoch  25 Loss  0.20769936154286067\n",
            "Average Epoch  24 Loss  0.20592495193084082\n",
            "Average Epoch  23 Loss  0.20417876342932384\n",
            "Average Epoch  22 Loss  0.20203619917233784\n",
            "Average Epoch  21 Loss  0.2002578624089559\n",
            "Average Epoch  20 Loss  0.20013174811999004\n",
            "Average Epoch  19 Loss  0.19932048112154008\n",
            "Average Epoch  18 Loss  0.19849730849266053\n",
            "Average Epoch  17 Loss  0.19728544632593792\n",
            "Average Epoch  16 Loss  0.19571996241807937\n",
            "Average Epoch  15 Loss  0.19578041245539984\n",
            "Average Epoch  14 Loss  0.19457765718301137\n",
            "Average Epoch  13 Loss  0.19408452729384104\n",
            "Average Epoch  12 Loss  0.19323520402113598\n",
            "Average Epoch  11 Loss  0.19292492896318436\n",
            "Average Epoch  10 Loss  0.19209618578354518\n",
            "Average Epoch  9 Loss  0.19146901975075403\n",
            "Average Epoch  8 Loss  0.1910789113243421\n",
            "Average Epoch  7 Loss  0.1911502566933632\n",
            "Average Epoch  6 Loss  0.1902960760394732\n",
            "Average Epoch  5 Loss  0.1901591424147288\n",
            "Average Epoch  4 Loss  0.189861335059007\n",
            "Average Epoch  3 Loss  0.18955211500326793\n",
            "Average Epoch  2 Loss  0.18876488775014877\n",
            "Average Epoch  1 Loss  0.18856249789396923\n"
          ],
          "name": "stdout"
        }
      ]
    },
    {
      "cell_type": "code",
      "metadata": {
        "colab_type": "code",
        "id": "InihtcorSzMn",
        "colab": {}
      },
      "source": [
        "trainQues = ndata[:20000,1]"
      ],
      "execution_count": 0,
      "outputs": []
    },
    {
      "cell_type": "markdown",
      "metadata": {
        "id": "GJRxxT7LQG77",
        "colab_type": "text"
      },
      "source": [
        "## Some Results"
      ]
    },
    {
      "cell_type": "code",
      "metadata": {
        "id": "2-CR9R28v4PF",
        "colab_type": "code",
        "colab": {}
      },
      "source": [
        "gtp = 3\n",
        "def MAPScore(arr):\n",
        "  \n",
        "  sumx,tsum = 0,0\n",
        "  for i,t in enumerate(arr):\n",
        "    sumx += t\n",
        "    tsum += (sumx * t)/(i+1)\n",
        "  print(\"MAP SCORE \",min(tsum,gtp)/gtp)\n",
        "  return tsum/gtp"
      ],
      "execution_count": 0,
      "outputs": []
    },
    {
      "cell_type": "code",
      "metadata": {
        "id": "KGJe9ZPRq7Rj",
        "colab_type": "code",
        "outputId": "099807c0-321f-42e2-c9d2-bd93bdddaa41",
        "colab": {
          "base_uri": "https://localhost:8080/",
          "height": 156
        }
      },
      "source": [
        " ques = input(\"Enter a question - \")  #1\n",
        "score = predict(trainQues,ques,siamese,sess,three_hash_dict,alpha=0.9,best = 6)\n",
        "print(\"Best Three Answers \\n%s\\n%s\\n%s\\n%s\\n%s\\n%s\" % (score[0][0],score[0][1],score[0][2],score[0][3],score[0][4],score[0][5]))"
      ],
      "execution_count": 0,
      "outputs": [
        {
          "output_type": "stream",
          "text": [
            "Enter a question - How to attract a girl?\n",
            "Best Three Answers \n",
            "how i can atract a girl?\n",
            "How to ask a girl to hang out with me?\n",
            "how to attract women ?\n",
            "Anyone think peircings are attractive? If so where at and why?\n",
            "does anyone out there think big girls are attractive?\n",
            "with a girl have nothing?\n"
          ],
          "name": "stdout"
        }
      ]
    },
    {
      "cell_type": "code",
      "metadata": {
        "id": "FSmXpYQUxVNm",
        "colab_type": "code",
        "outputId": "49aac5fa-0bd0-48e6-a23a-27fcf20c642c",
        "colab": {
          "base_uri": "https://localhost:8080/",
          "height": 34
        }
      },
      "source": [
        "labels = [1,1,0,0,0,1]\n",
        "_ = MAPScore(labels)"
      ],
      "execution_count": 0,
      "outputs": [
        {
          "output_type": "stream",
          "text": [
            "MAP SCORE  0.6666666666666666\n"
          ],
          "name": "stdout"
        }
      ]
    },
    {
      "cell_type": "code",
      "metadata": {
        "id": "oWWsqQPa2Dzu",
        "colab_type": "code",
        "outputId": "4070f4e1-9381-497f-f6f4-e9f83f40e246",
        "colab": {
          "base_uri": "https://localhost:8080/",
          "height": 156
        }
      },
      "source": [
        "ques = input(\"Enter a question - \")  #2\n",
        "score = predict(trainQues,ques,siamese,sess,three_hash_dict,alpha=0.8,best = 6)\n",
        "print(\"Best Three Answers \\n%s\\n%s\\n%s\\n%s\\n%s\\n%s\" % (score[0][0],score[0][1],score[0][2],score[0][3],score[0][4],score[0][5]))"
      ],
      "execution_count": 0,
      "outputs": [
        {
          "output_type": "stream",
          "text": [
            "Enter a question - What is best place to eat?\n",
            "Best Three Answers \n",
            "What is the best place to eat in Las Vegas?\n",
            "Whats a good place to eat in LA?\n",
            "Where is the best place to eat Mexican food?\n",
            "What is the best place to party in SF?\n",
            "Where is the best place to teach in the USA?\n",
            "Where is the hottest place on earth?\n"
          ],
          "name": "stdout"
        }
      ]
    },
    {
      "cell_type": "code",
      "metadata": {
        "id": "HiGImKyF0VxY",
        "colab_type": "code",
        "outputId": "e3071f9f-cf21-4a9a-85d7-233807f6c72e",
        "colab": {
          "base_uri": "https://localhost:8080/",
          "height": 34
        }
      },
      "source": [
        "labels = [1,1,1,0,0,1]\n",
        "_ = MAPScore(labels)"
      ],
      "execution_count": 0,
      "outputs": [
        {
          "output_type": "stream",
          "text": [
            "MAP SCORE  1.0\n"
          ],
          "name": "stdout"
        }
      ]
    },
    {
      "cell_type": "code",
      "metadata": {
        "id": "lsISYpVV2RzA",
        "colab_type": "code",
        "outputId": "71745b1f-b6e9-4214-fe49-8718925ae3a1",
        "colab": {
          "base_uri": "https://localhost:8080/",
          "height": 156
        }
      },
      "source": [
        "ques = input(\"Enter a question - \")  #3\n",
        "score = predict(trainQues,ques,siamese,sess,three_hash_dict,alpha=0.5,best = 6)\n",
        "print(\"Best Three Answers \\n%s\\n%s\\n%s\\n%s\\n%s\\n%s\" % (score[0][0],score[0][1],score[0][2],score[0][3],score[0][4],score[0][5]))"
      ],
      "execution_count": 0,
      "outputs": [
        {
          "output_type": "stream",
          "text": [
            "Enter a question - what is the best internet site?\n",
            "Best Three Answers \n",
            "what is the best dating site?\n",
            "what is the best news site on the net?\n",
            "what is internet?\n",
            "what is internet 2?\n",
            "what is the best site for people who are board on the internet?\n",
            "What is the internet missing?\n"
          ],
          "name": "stdout"
        }
      ]
    },
    {
      "cell_type": "code",
      "metadata": {
        "id": "_pECbN4J0913",
        "colab_type": "code",
        "outputId": "e601a4ef-3835-4a57-9db5-fc8ecf2f45c0",
        "colab": {
          "base_uri": "https://localhost:8080/",
          "height": 34
        }
      },
      "source": [
        "labels = [1,1,0,0,0,0]\n",
        "_ = MAPScore(labels)"
      ],
      "execution_count": 0,
      "outputs": [
        {
          "output_type": "stream",
          "text": [
            "MAP SCORE  0.6666666666666666\n"
          ],
          "name": "stdout"
        }
      ]
    },
    {
      "cell_type": "code",
      "metadata": {
        "id": "Efkkr3Gh6oOp",
        "colab_type": "code",
        "outputId": "2280a961-ccdb-4ee7-985f-72558174eb35",
        "colab": {
          "base_uri": "https://localhost:8080/",
          "height": 156
        }
      },
      "source": [
        "ques = input(\"Enter a question - \")   #4\n",
        "score = predict(trainQues,ques,siamese,sess,three_hash_dict,alpha=0.9,best = 6)\n",
        "print(\"Best Three Answers \\n%s\\n%s\\n%s\\n%s\\n%s\\n%s\" % (score[0][0],score[0][1],score[0][2],score[0][3],score[0][4],score[0][5]))"
      ],
      "execution_count": 0,
      "outputs": [
        {
          "output_type": "stream",
          "text": [
            "Enter a question - How can I become naturally happy?\n",
            "Best Three Answers \n",
            "Are you happy?\n",
            "What is happiness?\n",
            "What is happiness?\n",
            "what's happiness?\n",
            "Is Apple Aperture any good?\n",
            "What makes you happy?\n"
          ],
          "name": "stdout"
        }
      ]
    },
    {
      "cell_type": "code",
      "metadata": {
        "id": "5k5JzYwL1mj3",
        "colab_type": "code",
        "outputId": "d087070a-b455-4fff-b735-719c1453f478",
        "colab": {
          "base_uri": "https://localhost:8080/",
          "height": 34
        }
      },
      "source": [
        "labels = [1,0,1,1,1,0]\n",
        "_ = MAPScore(labels)"
      ],
      "execution_count": 0,
      "outputs": [
        {
          "output_type": "stream",
          "text": [
            "MAP SCORE  1.0\n"
          ],
          "name": "stdout"
        }
      ]
    },
    {
      "cell_type": "code",
      "metadata": {
        "id": "qCp4Lupv7RUt",
        "colab_type": "code",
        "outputId": "6e2f735c-6407-4c32-e971-a517b08bd3d0",
        "colab": {
          "base_uri": "https://localhost:8080/",
          "height": 156
        }
      },
      "source": [
        "ques = input(\"Enter a question - \")  #5\n",
        "score = predict(trainQues,ques,siamese,sess,three_hash_dict,alpha=0.8,best = 6)\n",
        "print(\"Best Three Answers \\n%s\\n%s\\n%s\\n%s\\n%s\\n%s\" % (score[0][0],score[0][1],score[0][2],score[0][3],score[0][4],score[0][5]))"
      ],
      "execution_count": 0,
      "outputs": [
        {
          "output_type": "stream",
          "text": [
            "Enter a question - Do you need to go to university to work in a nursery or pre-school?\n",
            "Best Three Answers \n",
            "do you go to public of private school? dont tell me what school you go to.?\n",
            "why go to school?\n",
            "What college should I look into if I wanted to go to school to be an attorney?\n",
            "How to choose a good telescope to buy?\n",
            "What is the best film school to go to if I want to become a director?\n",
            "i need to rent a home?\n"
          ],
          "name": "stdout"
        }
      ]
    },
    {
      "cell_type": "code",
      "metadata": {
        "id": "C_ZRv4CX4CGr",
        "colab_type": "code",
        "outputId": "645fd575-7d9e-4070-9017-67a449ea5991",
        "colab": {
          "base_uri": "https://localhost:8080/",
          "height": 34
        }
      },
      "source": [
        "labels = [0,0,0,0,0,0]\n",
        "_ = MAPScore(labels)"
      ],
      "execution_count": 0,
      "outputs": [
        {
          "output_type": "stream",
          "text": [
            "MAP SCORE  0.0\n"
          ],
          "name": "stdout"
        }
      ]
    },
    {
      "cell_type": "code",
      "metadata": {
        "id": "40h8xem77nCo",
        "colab_type": "code",
        "outputId": "2245b36b-43ef-4a37-cfbf-40dde320c67f",
        "colab": {
          "base_uri": "https://localhost:8080/",
          "height": 156
        }
      },
      "source": [
        "ques = input(\"Enter a question - \")  #6\n",
        "score = predict(trainQues,ques,siamese,sess,three_hash_dict,alpha=0.5,best = 6)\n",
        "print(\"Best Three Answers \\n%s\\n%s\\n%s\\n%s\\n%s\\n%s\" % (score[0][0],score[0][1],score[0][2],score[0][3],score[0][4],score[0][5]))"
      ],
      "execution_count": 0,
      "outputs": [
        {
          "output_type": "stream",
          "text": [
            "Enter a question - Who is most famous celebrity?\n",
            "Best Three Answers \n",
            "Who is the most famous hacker?\n",
            "Who is the most famous woman athlete of all time?\n",
            "Who is the most famous woman in human history?\n",
            "Who is the most famous orator in the history?\n",
            "Who is Eddie Van Halen?\n",
            "What is the most famous breed of horse?\n"
          ],
          "name": "stdout"
        }
      ]
    },
    {
      "cell_type": "code",
      "metadata": {
        "id": "P-_xr47P5bxt",
        "colab_type": "code",
        "outputId": "0e4b30b3-ddae-4dd4-e202-1aa2566bf2b8",
        "colab": {
          "base_uri": "https://localhost:8080/",
          "height": 34
        }
      },
      "source": [
        "labels = [1,1,1,1,1,0]\n",
        "_ = MAPScore(labels)"
      ],
      "execution_count": 0,
      "outputs": [
        {
          "output_type": "stream",
          "text": [
            "MAP SCORE  1.0\n"
          ],
          "name": "stdout"
        }
      ]
    },
    {
      "cell_type": "code",
      "metadata": {
        "id": "AW-oaJXB7z6n",
        "colab_type": "code",
        "outputId": "310777a2-b0eb-4d59-9cb9-cf256f74ba47",
        "colab": {
          "base_uri": "https://localhost:8080/",
          "height": 156
        }
      },
      "source": [
        "ques = input(\"Enter a question - \")  #7\n",
        "score = predict(trainQues,ques,siamese,sess,three_hash_dict,alpha=0.5,best = 6)\n",
        "print(\"Best Three Answers \\n%s\\n%s\\n%s\\n%s\\n%s\\n%s\" % (score[0][0],score[0][1],score[0][2],score[0][3],score[0][4],score[0][5]))"
      ],
      "execution_count": 0,
      "outputs": [
        {
          "output_type": "stream",
          "text": [
            "Enter a question - Does smoking affect an unborn child?\n",
            "Best Three Answers \n",
            "How many people do you know that died from smoking ?(not side effects of smoking but from smoking)?\n",
            "how do i stop smoking?\n",
            "what diseases come from smoking?\n",
            "Is smoking cigarettes near children a form of child abuse?\n",
            "Is smoking marijuana any better than drinking alcohol  or smoking cigarettes?\n",
            "What is an orgasm?\n"
          ],
          "name": "stdout"
        }
      ]
    },
    {
      "cell_type": "code",
      "metadata": {
        "id": "qc9GsxqK4il4",
        "colab_type": "code",
        "outputId": "27885a45-9caf-4dcd-f5f2-da92ba58f5ca",
        "colab": {
          "base_uri": "https://localhost:8080/",
          "height": 34
        }
      },
      "source": [
        "labels = [1,0,1,1,0,0]\n",
        "_ = MAPScore(labels)"
      ],
      "execution_count": 0,
      "outputs": [
        {
          "output_type": "stream",
          "text": [
            "MAP SCORE  0.8055555555555555\n"
          ],
          "name": "stdout"
        }
      ]
    },
    {
      "cell_type": "code",
      "metadata": {
        "id": "-eTPs-VOICSu",
        "colab_type": "code",
        "outputId": "bf7465a6-e7d7-482c-c45d-dfc6249f83af",
        "colab": {
          "base_uri": "https://localhost:8080/",
          "height": 156
        }
      },
      "source": [
        "ques = input(\"Enter a question - \")   #8\n",
        "score = predict(trainQues,ques,siamese,sess,three_hash_dict,alpha=0.5,best = 6)\n",
        "print(\"Best Three Answers \\n%s\\n%s\\n%s\\n%s\\n%s\\n%s\" % (score[0][0],score[0][1],score[0][2],score[0][3],score[0][4],score[0][5]))"
      ],
      "execution_count": 0,
      "outputs": [
        {
          "output_type": "stream",
          "text": [
            "Enter a question - What best way to publish a book?\n",
            "Best Three Answers \n",
            "What's the best way to approach a publisher with a non-fiction text book?\n",
            "What is the best way to sell an eBook?\n",
            "What is the best(cheapest) way to book a cruise if you want to book a certain area  time  and class of cabin?\n",
            "What's the best way to clean a keyboard?\n",
            "What are the steps required to edit  publish and distribute a book?\n",
            "how do you get a book published?\n"
          ],
          "name": "stdout"
        }
      ]
    },
    {
      "cell_type": "code",
      "metadata": {
        "id": "X2074-XBBENF",
        "colab_type": "code",
        "outputId": "dd4015de-6be0-4115-cd65-0dd208ea3781",
        "colab": {
          "base_uri": "https://localhost:8080/",
          "height": 34
        }
      },
      "source": [
        "labels = [1,0,0,0,1,1]\n",
        "_ = MAPScore(labels)"
      ],
      "execution_count": 0,
      "outputs": [
        {
          "output_type": "stream",
          "text": [
            "MAP SCORE  0.6333333333333333\n"
          ],
          "name": "stdout"
        }
      ]
    },
    {
      "cell_type": "code",
      "metadata": {
        "id": "P2sWtDAKJEno",
        "colab_type": "code",
        "outputId": "733bf9da-84b7-4db2-9df1-3326cdda1a1a",
        "colab": {
          "base_uri": "https://localhost:8080/",
          "height": 156
        }
      },
      "source": [
        "ques = input(\"Enter a question - \")   #9\n",
        "score = predict(trainQues,ques,siamese,sess,three_hash_dict,alpha=0.5,best = 6)\n",
        "print(\"Best Three Answers \\n%s\\n%s\\n%s\\n%s\\n%s\\n%s\" % (score[0][0],score[0][1],score[0][2],score[0][3],score[0][4],score[0][5]))"
      ],
      "execution_count": 0,
      "outputs": [
        {
          "output_type": "stream",
          "text": [
            "Enter a question - How do I put a video on YouTube?\n",
            "Best Three Answers \n",
            "How do I find the specs on my video card?\n",
            "How do I recover a video file on my hard drive that I have overwritten?\n",
            "How do you put on a condom?\n",
            "How can I find the dhcp server on Linux ?\n",
            "What do I do?\n",
            "What should I do?\n"
          ],
          "name": "stdout"
        }
      ]
    },
    {
      "cell_type": "code",
      "metadata": {
        "id": "L1epBB-CJs7M",
        "colab_type": "code",
        "outputId": "52296537-ef7c-43f9-d56f-441a55a5ef13",
        "colab": {
          "base_uri": "https://localhost:8080/",
          "height": 156
        }
      },
      "source": [
        "ques = input(\"Enter a question - \")  #10\n",
        "score = predict(trainQues,ques,siamese,sess,three_hash_dict,alpha=0.5,best = 6)\n",
        "print(\"Best Three Answers \\n%s\\n%s\\n%s\\n%s\\n%s\\n%s\" % (score[0][0],score[0][1],score[0][2],score[0][3],score[0][4],score[0][5]))"
      ],
      "execution_count": 0,
      "outputs": [
        {
          "output_type": "stream",
          "text": [
            "Enter a question - What are the advantages of Facebook?\n",
            "Best Three Answers \n",
            "what are the advantages of antibacterial products?\n",
            "Facebook or MySpace?\n",
            "What is the advantage of a 529 plan for college savings?\n",
            "what are the colors in rainbow?\n",
            "what is rebate?and what the advantage?\n",
            "Where's the best place to buy discounted Colorado lift tickets (Breck  Vail)?  I live out of state.?\n"
          ],
          "name": "stdout"
        }
      ]
    },
    {
      "cell_type": "code",
      "metadata": {
        "id": "zTizHWL8Ju5P",
        "colab_type": "code",
        "outputId": "d1231813-7145-494d-bdb3-9032e4d671d9",
        "colab": {
          "base_uri": "https://localhost:8080/",
          "height": 283
        }
      },
      "source": [
        "import matplotlib.pyplot as plt\n",
        "plt.plot([0.9,0.8,0.5,0.3],[0.74,0.769,0.719,0.66],color = 'r',label = \"MAP\")\n",
        "# plt.plot([0.9,0.8,0.5,0.3],[0.86,0.875,0.781,0.7],color = 'b',label = \"MRR\")\n",
        "plt.xlabel('alpha value')\n",
        "plt.ylabel('Metric')\n",
        "plt.legend()\n",
        "plt.grid(True)\n",
        "plt.show()    \n"
      ],
      "execution_count": 1,
      "outputs": [
        {
          "output_type": "display_data",
          "data": {
            "image/png": "[encoded data removed]",
            "text/plain": [
              "<Figure size 432x288 with 1 Axes>"
            ]
          },
          "metadata": {
            "tags": []
          }
        }
      ]
    },
    {
      "cell_type": "code",
      "metadata": {
        "id": "VOEiNXnOQdbH",
        "colab_type": "code",
        "colab": {}
      },
      "source": [
        ""
      ],
      "execution_count": 0,
      "outputs": []
    }
  ]
}