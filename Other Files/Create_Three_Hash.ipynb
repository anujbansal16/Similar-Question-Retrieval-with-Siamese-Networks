{
  "nbformat": 4,
  "nbformat_minor": 0,
  "metadata": {
    "colab": {
      "name": "tensorboard.ipynb",
      "version": "0.3.2",
      "provenance": [],
      "include_colab_link": true
    },
    "kernelspec": {
      "name": "python3",
      "display_name": "Python 3"
    }
  },
  "cells": [
    {
      "cell_type": "markdown",
      "metadata": {
        "id": "view-in-github",
        "colab_type": "text"
      },
      "source": [
        "<a href=\"https://colab.research.google.com/github/devloper13/SiameseNetworkProject/blob/master/tensorboard.ipynb\" target=\"_parent\"><img src=\"https://colab.research.google.com/assets/colab-badge.svg\" alt=\"Open In Colab\"/></a>"
      ]
    },
    {
      "metadata": {
        "id": "ve90WAhkbbp4",
        "colab_type": "code",
        "outputId": "8ef81e25-9a44-45ce-829f-d2e44d154258",
        "colab": {
          "base_uri": "https://localhost:8080/",
          "height": 69
        }
      },
      "cell_type": "code",
      "source": [
        "\n",
        "from __future__ import absolute_import\n",
        "from __future__ import division\n",
        "from __future__ import print_function\n",
        "from builtins import input\n",
        "\n",
        "#import system things\n",
        "from tensorflow.examples.tutorials.mnist import input_data # for data\n",
        "import tensorflow as tf\n",
        "import numpy as np\n",
        "import os\n",
        "import keras\n",
        "\n",
        "\n",
        "# Code to read csv file into Colaboratory:\n",
        "!pip install -U -q PyDrive\n",
        "import tensorflow as tf\n",
        "from pydrive.auth import GoogleAuth\n",
        "from pydrive.drive import GoogleDrive\n",
        "from google.colab import auth\n",
        "from oauth2client.client import GoogleCredentials\n",
        "import pandas as pd\n",
        "# Authenticate and create the PyDrive client.\n",
        "auth.authenticate_user()\n",
        "gauth = GoogleAuth()\n",
        "gauth.credentials = GoogleCredentials.get_application_default()\n",
        "drive = GoogleDrive(gauth)"
      ],
      "execution_count": 1,
      "outputs": [
        {
          "output_type": "stream",
          "text": [
            "Using TensorFlow backend.\n"
          ],
          "name": "stderr"
        },
        {
          "output_type": "stream",
          "text": [
            "\u001b[?25l\r\u001b[K    1% |▎                               | 10kB 19.1MB/s eta 0:00:01\r\u001b[K    2% |▋                               | 20kB 1.8MB/s eta 0:00:01\r\u001b[K    3% |█                               | 30kB 2.6MB/s eta 0:00:01\r\u001b[K    4% |█▎                              | 40kB 1.7MB/s eta 0:00:01\r\u001b[K    5% |█▋                              | 51kB 2.1MB/s eta 0:00:01\r\u001b[K    6% |██                              | 61kB 2.5MB/s eta 0:00:01\r\u001b[K    7% |██▎                             | 71kB 2.9MB/s eta 0:00:01\r\u001b[K    8% |██▋                             | 81kB 3.3MB/s eta 0:00:01\r\u001b[K    9% |███                             | 92kB 3.6MB/s eta 0:00:01\r\u001b[K    10% |███▎                            | 102kB 2.8MB/s eta 0:00:01\r\u001b[K    11% |███▋                            | 112kB 2.8MB/s eta 0:00:01\r\u001b[K    12% |████                            | 122kB 4.0MB/s eta 0:00:01\r\u001b[K    13% |████▎                           | 133kB 3.9MB/s eta 0:00:01\r\u001b[K    14% |████▋                           | 143kB 7.4MB/s eta 0:00:01\r\u001b[K    15% |█████                           | 153kB 7.5MB/s eta 0:00:01\r\u001b[K    16% |█████▎                          | 163kB 7.5MB/s eta 0:00:01\r\u001b[K    17% |█████▋                          | 174kB 7.5MB/s eta 0:00:01\r\u001b[K    18% |██████                          | 184kB 7.6MB/s eta 0:00:01\r\u001b[K    19% |██████▎                         | 194kB 7.6MB/s eta 0:00:01\r\u001b[K    20% |██████▋                         | 204kB 7.9MB/s eta 0:00:01\r\u001b[K    21% |███████                         | 215kB 8.0MB/s eta 0:00:01\r\u001b[K    22% |███████▎                        | 225kB 8.0MB/s eta 0:00:01\r\u001b[K    23% |███████▋                        | 235kB 8.1MB/s eta 0:00:01\r\u001b[K    24% |████████                        | 245kB 8.1MB/s eta 0:00:01\r\u001b[K    25% |████████▎                       | 256kB 8.1MB/s eta 0:00:01\r\u001b[K    26% |████████▋                       | 266kB 8.0MB/s eta 0:00:01\r\u001b[K    27% |█████████                       | 276kB 8.0MB/s eta 0:00:01\r\u001b[K    29% |█████████▎                      | 286kB 8.0MB/s eta 0:00:01\r\u001b[K    30% |█████████▋                      | 296kB 8.0MB/s eta 0:00:01\r\u001b[K    31% |██████████                      | 307kB 53.7MB/s eta 0:00:01\r\u001b[K    32% |██████████▎                     | 317kB 56.9MB/s eta 0:00:01\r\u001b[K    33% |██████████▋                     | 327kB 60.0MB/s eta 0:00:01\r\u001b[K    34% |███████████                     | 337kB 62.0MB/s eta 0:00:01\r\u001b[K    35% |███████████▎                    | 348kB 53.0MB/s eta 0:00:01\r\u001b[K    36% |███████████▋                    | 358kB 52.8MB/s eta 0:00:01\r\u001b[K    37% |████████████                    | 368kB 61.3MB/s eta 0:00:01\r\u001b[K    38% |████████████▎                   | 378kB 62.0MB/s eta 0:00:01\r\u001b[K    39% |████████████▋                   | 389kB 62.3MB/s eta 0:00:01\r\u001b[K    40% |█████████████                   | 399kB 61.8MB/s eta 0:00:01\r\u001b[K    41% |█████████████▎                  | 409kB 61.3MB/s eta 0:00:01\r\u001b[K    42% |█████████████▋                  | 419kB 60.5MB/s eta 0:00:01\r\u001b[K    43% |██████████████                  | 430kB 60.6MB/s eta 0:00:01\r\u001b[K    44% |██████████████▎                 | 440kB 10.2MB/s eta 0:00:01\r\u001b[K    45% |██████████████▋                 | 450kB 10.2MB/s eta 0:00:01\r\u001b[K    46% |███████████████                 | 460kB 10.2MB/s eta 0:00:01\r\u001b[K    47% |███████████████▎                | 471kB 10.2MB/s eta 0:00:01\r\u001b[K    48% |███████████████▋                | 481kB 10.2MB/s eta 0:00:01\r\u001b[K    49% |████████████████                | 491kB 10.2MB/s eta 0:00:01\r\u001b[K    50% |████████████████▎               | 501kB 10.2MB/s eta 0:00:01\r\u001b[K    51% |████████████████▋               | 512kB 10.0MB/s eta 0:00:01\r\u001b[K    52% |█████████████████               | 522kB 10.0MB/s eta 0:00:01\r\u001b[K    53% |█████████████████▎              | 532kB 10.0MB/s eta 0:00:01\r\u001b[K    54% |█████████████████▋              | 542kB 53.9MB/s eta 0:00:01\r\u001b[K    55% |██████████████████              | 552kB 63.5MB/s eta 0:00:01\r\u001b[K    57% |██████████████████▎             | 563kB 64.8MB/s eta 0:00:01\r\u001b[K    58% |██████████████████▋             | 573kB 65.8MB/s eta 0:00:01\r\u001b[K    59% |███████████████████             | 583kB 66.5MB/s eta 0:00:01\r\u001b[K    60% |███████████████████▎            | 593kB 68.4MB/s eta 0:00:01\r\u001b[K    61% |███████████████████▋            | 604kB 69.4MB/s eta 0:00:01\r\u001b[K    62% |████████████████████            | 614kB 79.5MB/s eta 0:00:01\r\u001b[K    63% |████████████████████▎           | 624kB 81.6MB/s eta 0:00:01\r\u001b[K    64% |████████████████████▋           | 634kB 81.6MB/s eta 0:00:01\r\u001b[K    65% |█████████████████████           | 645kB 81.7MB/s eta 0:00:01\r\u001b[K    66% |█████████████████████▎          | 655kB 81.9MB/s eta 0:00:01\r\u001b[K    67% |█████████████████████▋          | 665kB 56.7MB/s eta 0:00:01\r\u001b[K    68% |██████████████████████          | 675kB 55.9MB/s eta 0:00:01\r\u001b[K    69% |██████████████████████▎         | 686kB 56.7MB/s eta 0:00:01\r\u001b[K    70% |██████████████████████▋         | 696kB 10.2MB/s eta 0:00:01\r\u001b[K    71% |███████████████████████         | 706kB 10.1MB/s eta 0:00:01\r\u001b[K    72% |███████████████████████▎        | 716kB 10.1MB/s eta 0:00:01\r\u001b[K    73% |███████████████████████▋        | 727kB 10.1MB/s eta 0:00:01\r\u001b[K    74% |████████████████████████        | 737kB 10.1MB/s eta 0:00:01\r\u001b[K    75% |████████████████████████▎       | 747kB 10.0MB/s eta 0:00:01\r\u001b[K    76% |████████████████████████▋       | 757kB 10.0MB/s eta 0:00:01\r\u001b[K    77% |████████████████████████▉       | 768kB 10.5MB/s eta 0:00:01\r\u001b[K    78% |█████████████████████████▏      | 778kB 10.5MB/s eta 0:00:01\r\u001b[K    79% |█████████████████████████▌      | 788kB 10.5MB/s eta 0:00:01\r\u001b[K    80% |█████████████████████████▉      | 798kB 63.8MB/s eta 0:00:01\r\u001b[K    81% |██████████████████████████▏     | 808kB 66.0MB/s eta 0:00:01\r\u001b[K    82% |██████████████████████████▌     | 819kB 66.7MB/s eta 0:00:01\r\u001b[K    83% |██████████████████████████▉     | 829kB 66.7MB/s eta 0:00:01\r\u001b[K    85% |███████████████████████████▏    | 839kB 68.1MB/s eta 0:00:01\r\u001b[K    86% |███████████████████████████▌    | 849kB 69.0MB/s eta 0:00:01\r\u001b[K    87% |███████████████████████████▉    | 860kB 60.5MB/s eta 0:00:01\r\u001b[K    88% |████████████████████████████▏   | 870kB 60.4MB/s eta 0:00:01\r\u001b[K    89% |████████████████████████████▌   | 880kB 61.6MB/s eta 0:00:01\r\u001b[K    90% |████████████████████████████▉   | 890kB 61.7MB/s eta 0:00:01\r\u001b[K    91% |█████████████████████████████▏  | 901kB 62.9MB/s eta 0:00:01\r\u001b[K    92% |█████████████████████████████▌  | 911kB 63.0MB/s eta 0:00:01\r\u001b[K    93% |█████████████████████████████▉  | 921kB 64.0MB/s eta 0:00:01\r\u001b[K    94% |██████████████████████████████▏ | 931kB 64.7MB/s eta 0:00:01\r\u001b[K    95% |██████████████████████████████▌ | 942kB 63.5MB/s eta 0:00:01\r\u001b[K    96% |██████████████████████████████▉ | 952kB 64.2MB/s eta 0:00:01\r\u001b[K    97% |███████████████████████████████▏| 962kB 79.1MB/s eta 0:00:01\r\u001b[K    98% |███████████████████████████████▌| 972kB 82.6MB/s eta 0:00:01\r\u001b[K    99% |███████████████████████████████▉| 983kB 82.9MB/s eta 0:00:01\r\u001b[K    100% |████████████████████████████████| 993kB 21.9MB/s \n",
            "\u001b[?25h  Building wheel for PyDrive (setup.py) ... \u001b[?25ldone\n",
            "\u001b[?25h"
          ],
          "name": "stdout"
        }
      ]
    },
    {
      "metadata": {
        "id": "ABJA0q1TXzhD",
        "colab_type": "code",
        "outputId": "b2fdd582-c44c-4d56-dfd6-2901fdbda3c4",
        "colab": {
          "base_uri": "https://localhost:8080/",
          "height": 52
        }
      },
      "cell_type": "code",
      "source": [
        "from sklearn.feature_extraction.text import CountVectorizer\n",
        "from nltk.util import ngrams\n",
        "import nltk\n",
        "nltk.download('stopwords')\n",
        "from nltk.corpus import stopwords\n",
        "from tqdm import tqdm\n",
        "import pickle\n",
        "from google.colab import files\n",
        "from nltk.stem import PorterStemmer"
      ],
      "execution_count": 4,
      "outputs": [
        {
          "output_type": "stream",
          "text": [
            "[nltk_data] Downloading package stopwords to /root/nltk_data...\n",
            "[nltk_data]   Package stopwords is already up-to-date!\n"
          ],
          "name": "stdout"
        }
      ]
    },
    {
      "metadata": {
        "id": "wHG2L30sbugI",
        "colab_type": "code",
        "outputId": "9984f56f-91b1-4935-85a2-6ebd189f4f65",
        "colab": {
          "base_uri": "https://localhost:8080/",
          "height": 69
        }
      },
      "cell_type": "code",
      "source": [
        "link=\"https://drive.google.com/open?id=17VMN5CJA05vTPEs15gw-W2ocxmEITQEH\" #create shareable link of google drive file\n",
        "fluff, id = link.split('=')\n",
        "print (id) # Verify that you have everything after '='\n",
        "\n",
        "downloaded = drive.CreateFile({'id':id}) \n",
        "downloaded.GetContentFile('QA.csv')  \n",
        "data = pd.read_csv('QA.csv',error_bad_lines=False).values\n",
        "\n",
        "\n",
        "vectorizer = CountVectorizer()\n",
        "tokenizer=vectorizer.build_tokenizer()\n",
        "result=[]\n",
        "stop_words = set(stopwords.words('english')) \n",
        "\n",
        "def getThreeHash(text):\n",
        "  hashes=\"\"\n",
        "  tokens=tokenizer(text)\n",
        "  ps = PorterStemmer()\n",
        "  tokens = [ps.stem(word) for word in tokens]\n",
        "  for token in tokens:\n",
        "    if token not in stop_words:\n",
        "      tokenModi=\"#\"+token+\"#\"\n",
        "      output = list(ngrams(tokenModi, 3))\n",
        "      for a in output:\n",
        "        hashes+=(''.join(a))+\" \"\n",
        "  return hashes\n",
        "\n",
        "for question in tqdm(data[0:1000000,1]):\n",
        "  result.append(getThreeHash(question))\n",
        "  \n",
        "for answer in tqdm(data[0:1000000,2]):\n",
        "  if isinstance(answer,str):\n",
        "    result.append(getThreeHash(answer))\n",
        "    \n",
        "del data\n",
        "\n",
        "#vectorizer = CountVectorizer()\n",
        "#vectorizer.fit(result)\n",
        "#print(len(vectorizer.get_feature_names()))"
      ],
      "execution_count": 12,
      "outputs": [
        {
          "output_type": "stream",
          "text": [
            "17VMN5CJA05vTPEs15gw-W2ocxmEITQEH\n"
          ],
          "name": "stdout"
        },
        {
          "output_type": "stream",
          "text": [
            "100%|██████████| 100000/100000 [00:29<00:00, 3444.96it/s]\n",
            "100%|██████████| 100000/100000 [02:48<00:00, 594.85it/s]\n"
          ],
          "name": "stderr"
        }
      ]
    },
    {
      "metadata": {
        "id": "o5yyLPsEfg2b",
        "colab_type": "code",
        "outputId": "c9c23a67-8059-4e0d-94e8-8c74727bae35",
        "colab": {
          "base_uri": "https://localhost:8080/",
          "height": 34
        }
      },
      "cell_type": "code",
      "source": [
        "dict_res = {}\n",
        "count = 0\n",
        "vectorizer = CountVectorizer()\n",
        "vectorizer.fit(result)\n",
        "print(len(vectorizer.get_feature_names()))\n",
        "for i in vectorizer.get_feature_names():\n",
        "  dict_res[i] = count\n",
        "  count+=1\n",
        "  \n",
        "with open('three_hash','wb') as f:\n",
        "  pickle.dump(dict_res,f)\n",
        "\n",
        "files.download('three_hash')"
      ],
      "execution_count": 13,
      "outputs": [
        {
          "output_type": "stream",
          "text": [
            "30628\n"
          ],
          "name": "stdout"
        }
      ]
    },
    {
      "metadata": {
        "id": "3mcczIaEWJ8m",
        "colab_type": "code",
        "colab": {
          "base_uri": "https://localhost:8080/",
          "height": 124
        },
        "outputId": "a06be791-31db-404c-953f-7292f2b72738"
      },
      "cell_type": "code",
      "source": [
        "data[:2]"
      ],
      "execution_count": 7,
      "outputs": [
        {
          "output_type": "execute_result",
          "data": {
            "text/plain": [
              "array([[0, 'Why are yawns contagious?',\n",
              "        'When your body need more oxygen  you yawn.When you yawn  you take more oxygen in the air.If the density of the oxygen in the air becomes lower  other people (their bodies) can feel that and start to yawn to get more oxygen.That\\'s why yawns are contagious. Yawning is extremely contagious -- 55% of people who witness someone yawn will yawn within five minutes. If a visually impaired person hears a tape of someone yawning  he or she is likely to yawn as well. Face it  the likelihood of you making it to the end of this answer without looking like one of these gaping maws is unlikely.Although the contagious nature of yawning is well established  we know less about why this is so. Researchers are currently giving the topic some serious attention. One theory suggests it\\'s a holdover from a period in evolutionary history when yawning served to coordinate the social behavior of a group of animals. A recent study postulates that contagious yawning could be part of the \"neural network involved in empathy.\"While the mystery of contagious yawning has yet to be solved  perhaps researchers are closing in on an answer. On the other hand  given the subject matter  we wouldn\\'t blame them for falling asleep at the wheel. In the meantime  give the \"yawn challenge\" a try -- it\\'s tougher than it looks.'],\n",
              "       [1, \"What's the best way to heat up a cold hamburger (In&Out)?\",\n",
              "        'If you must eat a heated In&Out hamburger then I suggest the follow:First  scrape the ketchup  mayo and any other sauce that is on the hamburger and put it a side. Also take the vegetables out.Second  pre-heat a steak pan; put the hamburger separate form the bun on the hot panThird  heat up both parts of the bun near the hamburger on the same hot pan (you can get some souce from the hamburger on it)Fourth  you can either put back the original ketchup  mayo and the vegetables or  better yet  get new ones from what you have at home .Bon Appetite']],\n",
              "      dtype=object)"
            ]
          },
          "metadata": {
            "tags": []
          },
          "execution_count": 7
        }
      ]
    },
    {
      "metadata": {
        "id": "W255DjtjV7qi",
        "colab_type": "code",
        "colab": {}
      },
      "cell_type": "code",
      "source": [
        ""
      ],
      "execution_count": 0,
      "outputs": []
    }
  ]
}