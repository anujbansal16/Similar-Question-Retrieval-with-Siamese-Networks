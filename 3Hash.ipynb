{
  "nbformat": 4,
  "nbformat_minor": 0,
  "metadata": {
    "colab": {
      "name": "3Hash.ipynb",
      "version": "0.3.2",
      "provenance": [],
      "collapsed_sections": []
    },
    "kernelspec": {
      "name": "python3",
      "display_name": "Python 3"
    },
    "accelerator": "GPU"
  },
  "cells": [
    {
      "metadata": {
        "id": "YCH1FsdBU37K",
        "colab_type": "code",
        "colab": {}
      },
      "cell_type": "code",
      "source": [
        "# Code to read csv file into Colaboratory:\n",
        "!pip install -U -q PyDrive\n",
        "import tensorflow as tf\n",
        "from pydrive.auth import GoogleAuth\n",
        "from pydrive.drive import GoogleDrive\n",
        "from google.colab import auth\n",
        "from oauth2client.client import GoogleCredentials\n",
        "import pandas as pd\n",
        "# Authenticate and create the PyDrive client.\n",
        "auth.authenticate_user()\n",
        "gauth = GoogleAuth()\n",
        "gauth.credentials = GoogleCredentials.get_application_default()\n",
        "drive = GoogleDrive(gauth)\n"
      ],
      "execution_count": 0,
      "outputs": []
    },
    {
      "metadata": {
        "id": "DuJeR_XXYeZ2",
        "colab_type": "code",
        "outputId": "dd29730d-7cfa-43f5-c1b4-08219aa2532f",
        "colab": {
          "base_uri": "https://localhost:8080/",
          "height": 632
        }
      },
      "cell_type": "code",
      "source": [
        "link=\"https://drive.google.com/open?id=1pFiB2Gglu8Y8KRWv1MHs1wU6thyfz-iC\" #create shareable link of google drive file\n",
        "fluff, id = link.split('=')\n",
        "print (id) # Verify that you have everything after '='\n",
        "\n",
        "downloaded = drive.CreateFile({'id':id}) \n",
        "downloaded.GetContentFile('QA.csv')  \n",
        "data = pd.read_csv('QA.csv',error_bad_lines=False).values\n"
      ],
      "execution_count": 4,
      "outputs": [
        {
          "output_type": "stream",
          "text": [
            "1pFiB2Gglu8Y8KRWv1MHs1wU6thyfz-iC\n"
          ],
          "name": "stdout"
        },
        {
          "output_type": "stream",
          "text": [
            "b'Skipping line 35695: expected 4 fields, saw 6\\nSkipping line 79839: expected 4 fields, saw 5\\n'\n",
            "b'Skipping line 174925: expected 4 fields, saw 6\\n'\n",
            "b'Skipping line 275439: expected 4 fields, saw 5\\nSkipping line 358011: expected 4 fields, saw 6\\n'\n",
            "b'Skipping line 463079: expected 4 fields, saw 5\\n'\n",
            "b'Skipping line 532383: expected 4 fields, saw 5\\nSkipping line 559070: expected 4 fields, saw 5\\nSkipping line 624061: expected 4 fields, saw 5\\n'\n",
            "b'Skipping line 692695: expected 4 fields, saw 5\\nSkipping line 749292: expected 4 fields, saw 6\\nSkipping line 776286: expected 4 fields, saw 6\\n'\n",
            "b'Skipping line 790705: expected 4 fields, saw 6\\n'\n",
            "b'Skipping line 964650: expected 4 fields, saw 5\\nSkipping line 1014911: expected 4 fields, saw 5\\nSkipping line 1018727: expected 4 fields, saw 5\\n'\n",
            "b'Skipping line 1051815: expected 4 fields, saw 5\\nSkipping line 1053746: expected 4 fields, saw 5\\nSkipping line 1140832: expected 4 fields, saw 6\\n'\n",
            "b'Skipping line 1186094: expected 4 fields, saw 5\\nSkipping line 1205688: expected 4 fields, saw 5\\nSkipping line 1255223: expected 4 fields, saw 5\\nSkipping line 1262492: expected 4 fields, saw 6\\n'\n",
            "b'Skipping line 1373880: expected 4 fields, saw 5\\nSkipping line 1417071: expected 4 fields, saw 5\\nSkipping line 1436039: expected 4 fields, saw 5\\n'\n",
            "b'Skipping line 1454783: expected 4 fields, saw 5\\nSkipping line 1486549: expected 4 fields, saw 5\\nSkipping line 1512468: expected 4 fields, saw 5\\nSkipping line 1544027: expected 4 fields, saw 5\\n'\n",
            "b'Skipping line 1577815: expected 4 fields, saw 6\\nSkipping line 1673051: expected 4 fields, saw 6\\n'\n",
            "b'Skipping line 1718526: expected 4 fields, saw 5\\n'\n",
            "b'Skipping line 1852460: expected 4 fields, saw 5\\nSkipping line 1875884: expected 4 fields, saw 5\\nSkipping line 1928539: expected 4 fields, saw 5\\nSkipping line 1950037: expected 4 fields, saw 6\\n'\n",
            "b'Skipping line 1968509: expected 4 fields, saw 5\\nSkipping line 2022650: expected 4 fields, saw 5\\n'\n",
            "b'Skipping line 2114507: expected 4 fields, saw 6\\nSkipping line 2186635: expected 4 fields, saw 5\\n'\n",
            "b'Skipping line 2233563: expected 4 fields, saw 5\\nSkipping line 2245287: expected 4 fields, saw 5\\nSkipping line 2245360: expected 4 fields, saw 6\\nSkipping line 2272717: expected 4 fields, saw 5\\nSkipping line 2354583: expected 4 fields, saw 5\\n'\n",
            "b'Skipping line 2408052: expected 4 fields, saw 5\\nSkipping line 2415111: expected 4 fields, saw 5\\nSkipping line 2417846: expected 4 fields, saw 5\\nSkipping line 2442323: expected 4 fields, saw 5\\nSkipping line 2463952: expected 4 fields, saw 5\\n'\n",
            "b'Skipping line 2492355: expected 4 fields, saw 5\\nSkipping line 2504522: expected 4 fields, saw 6\\nSkipping line 2544555: expected 4 fields, saw 5\\nSkipping line 2601391: expected 4 fields, saw 5\\n'\n",
            "b'Skipping line 2713014: expected 4 fields, saw 5\\n'\n",
            "b'Skipping line 2757969: expected 4 fields, saw 6\\nSkipping line 2839418: expected 4 fields, saw 6\\n'\n",
            "b'Skipping line 2905403: expected 4 fields, saw 5\\nSkipping line 2917812: expected 4 fields, saw 5\\nSkipping line 2996948: expected 4 fields, saw 5\\n'\n",
            "b'Skipping line 3064973: expected 4 fields, saw 5\\nSkipping line 3080929: expected 4 fields, saw 5\\n'\n",
            "b'Skipping line 3152868: expected 4 fields, saw 5\\n'\n",
            "b'Skipping line 3307920: expected 4 fields, saw 5\\nSkipping line 3342506: expected 4 fields, saw 5\\nSkipping line 3357377: expected 4 fields, saw 5\\nSkipping line 3405311: expected 4 fields, saw 5\\n'\n",
            "b'Skipping line 3422609: expected 4 fields, saw 5\\nSkipping line 3424622: expected 4 fields, saw 5\\nSkipping line 3456644: expected 4 fields, saw 5\\n'\n",
            "b'Skipping line 3578253: expected 4 fields, saw 5\\nSkipping line 3595552: expected 4 fields, saw 6\\nSkipping line 3635226: expected 4 fields, saw 5\\nSkipping line 3637597: expected 4 fields, saw 5\\n'\n",
            "b'Skipping line 3716250: expected 4 fields, saw 6\\nSkipping line 3764056: expected 4 fields, saw 5\\nSkipping line 3774247: expected 4 fields, saw 6\\n'\n",
            "b'Skipping line 3804849: expected 4 fields, saw 6\\nSkipping line 3860279: expected 4 fields, saw 5\\nSkipping line 3884758: expected 4 fields, saw 6\\nSkipping line 3909908: expected 4 fields, saw 6\\n'\n",
            "b'Skipping line 4034433: expected 4 fields, saw 5\\nSkipping line 4034909: expected 4 fields, saw 6\\nSkipping line 4057346: expected 4 fields, saw 5\\n'\n",
            "b'Skipping line 4089046: expected 4 fields, saw 5\\nSkipping line 4173219: expected 4 fields, saw 5\\nSkipping line 4183478: expected 4 fields, saw 6\\nSkipping line 4189222: expected 4 fields, saw 5\\n'\n",
            "b'Skipping line 4206280: expected 4 fields, saw 6\\nSkipping line 4220525: expected 4 fields, saw 5\\n'\n",
            "b'Skipping line 4397847: expected 4 fields, saw 5\\nSkipping line 4424270: expected 4 fields, saw 5\\n'\n"
          ],
          "name": "stderr"
        }
      ]
    },
    {
      "metadata": {
        "id": "mPhtT9yFWiGS",
        "colab_type": "code",
        "colab": {
          "base_uri": "https://localhost:8080/",
          "height": 51
        },
        "outputId": "87cf6a9b-3748-4dd1-9938-b43a7e8648b4"
      },
      "cell_type": "code",
      "source": [
        "from sklearn.feature_extraction.text import CountVectorizer\n",
        "from nltk.util import ngrams\n",
        "import nltk\n",
        "nltk.download('stopwords')\n",
        "from nltk.corpus import stopwords\n",
        "from tqdm import tqdm"
      ],
      "execution_count": 5,
      "outputs": [
        {
          "output_type": "stream",
          "text": [
            "[nltk_data] Downloading package stopwords to /root/nltk_data...\n",
            "[nltk_data]   Package stopwords is already up-to-date!\n"
          ],
          "name": "stdout"
        }
      ]
    },
    {
      "metadata": {
        "id": "YBcoWxFijzm5",
        "colab_type": "code",
        "outputId": "1e3d70f6-868f-4450-8952-a367edf1e236",
        "colab": {
          "base_uri": "https://localhost:8080/",
          "height": 51
        }
      },
      "cell_type": "code",
      "source": [
        "vectorizer = CountVectorizer()\n",
        "tokenizer=vectorizer.build_tokenizer()\n",
        "result=[]\n",
        "stop_words = set(stopwords.words('english')) \n",
        "\n",
        "def getThreeHash(text):\n",
        "  hashes=\"\"\n",
        "  tokens=tokenizer(text)\n",
        "  for token in tokens:\n",
        "    if token not in stop_words:\n",
        "      tokenModi=\"#\"+token+\"#\"\n",
        "      output = list(ngrams(tokenModi, 3))\n",
        "      for a in output:\n",
        "        hashes+=(''.join(a))+\" \"\n",
        "  return hashes\n",
        "\n",
        "for question in tqdm(data[:,0]):\n",
        "  result.append(getThreeHash(question))\n",
        "  \n",
        "for answer in tqdm(data[:,2]):\n",
        "  if isinstance(answer,str):\n",
        "    result.append(getThreeHash(answer))\n",
        "    \n",
        "del data\n",
        "\n",
        "vectorizer = CountVectorizer()\n",
        "vectorizer.fit(result)\n",
        "print(len(vectorizer.get_feature_names()))\n",
        "\n",
        "# for q in data[:1,0]:\n",
        "#   print(\"questuin \",q)\n",
        "#   transformMe=getThreeHash(q)\n",
        "#   print(\"dsd \",transformMe)\n",
        "#   a=vectorizer.transform([transformMe])\n",
        "#   print(a.toarray())\n",
        "  \n",
        "# print(X.toarray())  \n"
      ],
      "execution_count": 0,
      "outputs": [
        {
          "output_type": "stream",
          "text": [
            "100%|██████████| 4478957/4478957 [02:56<00:00, 25333.61it/s]\n",
            "100%|██████████| 4478957/4478957 [16:14<00:00, 4597.61it/s]\n"
          ],
          "name": "stderr"
        }
      ]
    },
    {
      "metadata": {
        "id": "ZEVFyBVvkw8E",
        "colab_type": "code",
        "colab": {
          "base_uri": "https://localhost:8080/",
          "height": 68
        },
        "outputId": "5c578a1f-b111-4adb-8e69-7020482b1f44"
      },
      "cell_type": "code",
      "source": [
        "import math\n",
        "print(data[37103,])\n",
        "print(isinstance(data[0,2],str))"
      ],
      "execution_count": 30,
      "outputs": [
        {
          "output_type": "stream",
          "text": [
            "['when will the complete season of laguna beach the second season be available to buy?'\n",
            " nan nan nan]\n",
            "True\n"
          ],
          "name": "stdout"
        }
      ]
    },
    {
      "metadata": {
        "id": "lsofWbGWdSCV",
        "colab_type": "code",
        "colab": {}
      },
      "cell_type": "code",
      "source": [
        ""
      ],
      "execution_count": 0,
      "outputs": []
    }
  ]
}