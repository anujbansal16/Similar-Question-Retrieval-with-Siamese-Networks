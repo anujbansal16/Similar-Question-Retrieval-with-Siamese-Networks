{
  "nbformat": 4,
  "nbformat_minor": 0,
  "metadata": {
    "colab": {
      "name": "test_question.ipynb",
      "version": "0.3.2",
      "provenance": [],
      "collapsed_sections": []
    },
    "kernelspec": {
      "name": "python3",
      "display_name": "Python 3"
    }
  },
  "cells": [
    {
      "metadata": {
        "id": "brQjlDQXm3wG",
        "colab_type": "code",
        "outputId": "310eafd3-0a64-484e-d014-da8243682784",
        "colab": {
          "base_uri": "https://localhost:8080/",
          "height": 51
        }
      },
      "cell_type": "code",
      "source": [
        "import pandas as pd\n",
        "# Code to read csv file into Colaboratory:\n",
        "!pip install -U -q PyDrive\n",
        "import tensorflow as tf\n",
        "from pydrive.auth import GoogleAuth\n",
        "from pydrive.drive import GoogleDrive\n",
        "from google.colab import auth\n",
        "from oauth2client.client import GoogleCredentials\n",
        "import pandas as pd\n",
        "import pickle\n",
        "# Authenticate and create the PyDrive client.\n",
        "auth.authenticate_user()\n",
        "gauth = GoogleAuth()\n",
        "gauth.credentials = GoogleCredentials.get_application_default()\n",
        "drive = GoogleDrive(gauth)"
      ],
      "execution_count": 1,
      "outputs": [
        {
          "output_type": "stream",
          "text": [
            "\u001b[?25l\r\u001b[K    1% |▎                               | 10kB 18.8MB/s eta 0:00:01\r\u001b[K    2% |▋                               | 20kB 1.9MB/s eta 0:00:01\r\u001b[K    3% |█                               | 30kB 2.7MB/s eta 0:00:01\r\u001b[K    4% |█▎                              | 40kB 1.8MB/s eta 0:00:01\r\u001b[K    5% |█▋                              | 51kB 2.2MB/s eta 0:00:01\r\u001b[K    6% |██                              | 61kB 2.6MB/s eta 0:00:01\r\u001b[K    7% |██▎                             | 71kB 3.0MB/s eta 0:00:01\r\u001b[K    8% |██▋                             | 81kB 3.4MB/s eta 0:00:01\r\u001b[K    9% |███                             | 92kB 3.8MB/s eta 0:00:01\r\u001b[K    10% |███▎                            | 102kB 2.9MB/s eta 0:00:01\r\u001b[K    11% |███▋                            | 112kB 2.9MB/s eta 0:00:01\r\u001b[K    12% |████                            | 122kB 4.0MB/s eta 0:00:01\r\u001b[K    13% |████▎                           | 133kB 4.0MB/s eta 0:00:01\r\u001b[K    14% |████▋                           | 143kB 7.6MB/s eta 0:00:01\r\u001b[K    15% |█████                           | 153kB 7.7MB/s eta 0:00:01\r\u001b[K    16% |█████▎                          | 163kB 7.7MB/s eta 0:00:01\r\u001b[K    17% |█████▋                          | 174kB 7.7MB/s eta 0:00:01\r\u001b[K    18% |██████                          | 184kB 7.8MB/s eta 0:00:01\r\u001b[K    19% |██████▎                         | 194kB 7.8MB/s eta 0:00:01\r\u001b[K    20% |██████▋                         | 204kB 41.2MB/s eta 0:00:01\r\u001b[K    21% |███████                         | 215kB 8.5MB/s eta 0:00:01\r\u001b[K    22% |███████▎                        | 225kB 8.5MB/s eta 0:00:01\r\u001b[K    23% |███████▋                        | 235kB 8.6MB/s eta 0:00:01\r\u001b[K    24% |████████                        | 245kB 8.5MB/s eta 0:00:01\r\u001b[K    25% |████████▎                       | 256kB 8.5MB/s eta 0:00:01\r\u001b[K    26% |████████▋                       | 266kB 8.3MB/s eta 0:00:01\r\u001b[K    27% |█████████                       | 276kB 8.4MB/s eta 0:00:01\r\u001b[K    29% |█████████▎                      | 286kB 8.4MB/s eta 0:00:01\r\u001b[K    30% |█████████▋                      | 296kB 8.4MB/s eta 0:00:01\r\u001b[K    31% |██████████                      | 307kB 8.7MB/s eta 0:00:01\r\u001b[K    32% |██████████▎                     | 317kB 49.6MB/s eta 0:00:01\r\u001b[K    33% |██████████▋                     | 327kB 50.8MB/s eta 0:00:01\r\u001b[K    34% |███████████                     | 337kB 52.7MB/s eta 0:00:01\r\u001b[K    35% |███████████▎                    | 348kB 48.0MB/s eta 0:00:01\r\u001b[K    36% |███████████▋                    | 358kB 47.1MB/s eta 0:00:01\r\u001b[K    37% |████████████                    | 368kB 54.6MB/s eta 0:00:01\r\u001b[K    38% |████████████▎                   | 378kB 54.9MB/s eta 0:00:01\r\u001b[K    39% |████████████▋                   | 389kB 55.9MB/s eta 0:00:01\r\u001b[K    40% |█████████████                   | 399kB 9.6MB/s eta 0:00:01\r\u001b[K    41% |█████████████▎                  | 409kB 9.5MB/s eta 0:00:01\r\u001b[K    42% |█████████████▋                  | 419kB 9.5MB/s eta 0:00:01\r\u001b[K    43% |██████████████                  | 430kB 9.4MB/s eta 0:00:01\r\u001b[K    44% |██████████████▎                 | 440kB 9.4MB/s eta 0:00:01\r\u001b[K    45% |██████████████▋                 | 450kB 9.5MB/s eta 0:00:01\r\u001b[K    46% |███████████████                 | 460kB 9.5MB/s eta 0:00:01\r\u001b[K    47% |███████████████▎                | 471kB 9.6MB/s eta 0:00:01\r\u001b[K    48% |███████████████▋                | 481kB 9.5MB/s eta 0:00:01\r\u001b[K    49% |████████████████                | 491kB 9.5MB/s eta 0:00:01\r\u001b[K    50% |████████████████▎               | 501kB 53.7MB/s eta 0:00:01\r\u001b[K    51% |████████████████▋               | 512kB 51.3MB/s eta 0:00:01\r\u001b[K    52% |█████████████████               | 522kB 53.7MB/s eta 0:00:01\r\u001b[K    53% |█████████████████▎              | 532kB 56.6MB/s eta 0:00:01\r\u001b[K    54% |█████████████████▋              | 542kB 56.1MB/s eta 0:00:01\r\u001b[K    55% |██████████████████              | 552kB 60.8MB/s eta 0:00:01\r\u001b[K    57% |██████████████████▎             | 563kB 8.6MB/s eta 0:00:01\r\u001b[K    58% |██████████████████▋             | 573kB 8.4MB/s eta 0:00:01\r\u001b[K    59% |███████████████████             | 583kB 8.4MB/s eta 0:00:01\r\u001b[K    60% |███████████████████▎            | 593kB 8.4MB/s eta 0:00:01\r\u001b[K    61% |███████████████████▋            | 604kB 8.4MB/s eta 0:00:01\r\u001b[K    62% |████████████████████            | 614kB 8.5MB/s eta 0:00:01\r\u001b[K    63% |████████████████████▎           | 624kB 8.5MB/s eta 0:00:01\r\u001b[K    64% |████████████████████▋           | 634kB 8.5MB/s eta 0:00:01\r\u001b[K    65% |█████████████████████           | 645kB 8.4MB/s eta 0:00:01\r\u001b[K    66% |█████████████████████▎          | 655kB 8.4MB/s eta 0:00:01\r\u001b[K    67% |█████████████████████▋          | 665kB 42.4MB/s eta 0:00:01\r\u001b[K    68% |██████████████████████          | 675kB 45.3MB/s eta 0:00:01\r\u001b[K    69% |██████████████████████▎         | 686kB 46.1MB/s eta 0:00:01\r\u001b[K    70% |██████████████████████▋         | 696kB 47.2MB/s eta 0:00:01\r\u001b[K    71% |███████████████████████         | 706kB 47.3MB/s eta 0:00:01\r\u001b[K    72% |███████████████████████▎        | 716kB 47.5MB/s eta 0:00:01\r\u001b[K    73% |███████████████████████▋        | 727kB 47.2MB/s eta 0:00:01\r\u001b[K    74% |████████████████████████        | 737kB 47.3MB/s eta 0:00:01\r\u001b[K    75% |████████████████████████▎       | 747kB 47.9MB/s eta 0:00:01\r\u001b[K    76% |████████████████████████▋       | 757kB 48.0MB/s eta 0:00:01\r\u001b[K    77% |████████████████████████▉       | 768kB 64.3MB/s eta 0:00:01\r\u001b[K    78% |█████████████████████████▏      | 778kB 65.0MB/s eta 0:00:01\r\u001b[K    79% |█████████████████████████▌      | 788kB 62.8MB/s eta 0:00:01\r\u001b[K    80% |█████████████████████████▉      | 798kB 61.9MB/s eta 0:00:01\r\u001b[K    81% |██████████████████████████▏     | 808kB 60.7MB/s eta 0:00:01\r\u001b[K    82% |██████████████████████████▌     | 819kB 59.7MB/s eta 0:00:01\r\u001b[K    83% |██████████████████████████▉     | 829kB 60.6MB/s eta 0:00:01\r\u001b[K    85% |███████████████████████████▏    | 839kB 61.4MB/s eta 0:00:01\r\u001b[K    86% |███████████████████████████▌    | 849kB 61.3MB/s eta 0:00:01\r\u001b[K    87% |███████████████████████████▉    | 860kB 54.1MB/s eta 0:00:01\r\u001b[K    88% |████████████████████████████▏   | 870kB 53.5MB/s eta 0:00:01\r\u001b[K    89% |████████████████████████████▌   | 880kB 54.4MB/s eta 0:00:01\r\u001b[K    90% |████████████████████████████▉   | 890kB 55.9MB/s eta 0:00:01\r\u001b[K    91% |█████████████████████████████▏  | 901kB 55.8MB/s eta 0:00:01\r\u001b[K    92% |█████████████████████████████▌  | 911kB 56.7MB/s eta 0:00:01\r\u001b[K    93% |█████████████████████████████▉  | 921kB 56.9MB/s eta 0:00:01\r\u001b[K    94% |██████████████████████████████▏ | 931kB 57.0MB/s eta 0:00:01\r\u001b[K    95% |██████████████████████████████▌ | 942kB 57.2MB/s eta 0:00:01\r\u001b[K    96% |██████████████████████████████▉ | 952kB 57.3MB/s eta 0:00:01\r\u001b[K    97% |███████████████████████████████▏| 962kB 66.6MB/s eta 0:00:01\r\u001b[K    98% |███████████████████████████████▌| 972kB 66.1MB/s eta 0:00:01\r\u001b[K    99% |███████████████████████████████▉| 983kB 64.4MB/s eta 0:00:01\r\u001b[K    100% |████████████████████████████████| 993kB 21.0MB/s \n",
            "\u001b[?25h  Building wheel for PyDrive (setup.py) ... \u001b[?25ldone\n",
            "\u001b[?25h"
          ],
          "name": "stdout"
        }
      ]
    },
    {
      "metadata": {
        "id": "BUhMrUh-nQhI",
        "colab_type": "code",
        "outputId": "733c7476-6a53-41d8-ac91-8a8b50011cd2",
        "colab": {
          "base_uri": "https://localhost:8080/",
          "height": 360
        }
      },
      "cell_type": "code",
      "source": [
        "from google.colab import files\n",
        "\n",
        "link=\"https://drive.google.com/open?id=17VMN5CJA05vTPEs15gw-W2ocxmEITQEH\"\n",
        "fluff, id = link.split('=')\n",
        "#print (id) # Verify that you have everything after '='\n",
        "\n",
        "downloaded = drive.CreateFile({'id':id}) \n",
        "downloaded.GetContentFile('100000minEng.csv')  \n",
        "sdata = pd.read_csv('100000minEng.csv',error_bad_lines=False)[:1000]\n",
        "print(len(sdata))\n",
        "data20=sdata.sample(frac=20/1000).values\n",
        "questions=data20[:,1]\n",
        "print(questions)"
      ],
      "execution_count": 17,
      "outputs": [
        {
          "output_type": "stream",
          "text": [
            "1000\n",
            "['what is your favorite quotation from Henry David Thoreau ?'\n",
            " \"Should I fly back to Sunnyvale (from WI) for the Year end party? Is it worth it?I'?\"\n",
            " 'Where do babies come from?'\n",
            " 'My boyfriend and I broke up because he is busy at work  should I wait for him?'\n",
            " 'Is Trigonometry considered high school or college level math?'\n",
            " 'Why do people shop only after Thanksgiving?'\n",
            " 'Best gifts to bring back from San Francisco?'\n",
            " 'Do schools need better teachers or more funding? Why?'\n",
            " 'Anyone know how to make bruschetta?'\n",
            " 'Why do people have the bird  turkey for thanksgiving?'\n",
            " 'I need to get a wireless card for my laptop. Are all cards compatible with all laptops? Which one is best?'\n",
            " 'Which came first  the chicken or the egg?'\n",
            " 'What building housed the first elevator?' 'Flapjacks problem'\n",
            " \"How do you remove permanent marker on appliances/counter tops like store receipt's blue ink?\"\n",
            " 'What fruit trees can you grow in your backyard?'\n",
            " 'what is the best podcast to subscribe to?' 'Should I rent or buy?'\n",
            " 'What is the difference between a cappuccino and a latte?'\n",
            " 'could u reccomend me a cool brazilian restaurant in San Francisco Bay area?']\n"
          ],
          "name": "stdout"
        }
      ]
    },
    {
      "metadata": {
        "id": "Vb7qFu7mm_vP",
        "colab_type": "code",
        "colab": {
          "base_uri": "https://localhost:8080/",
          "height": 34
        },
        "outputId": "6959a167-f343-41f8-d1be-b5811f6570e0"
      },
      "cell_type": "code",
      "source": [
        "# print(questions)\n",
        "import csv\n",
        "import os\n",
        "if not os.path.exists('test_questions.csv'):\n",
        "  with open('test_questions.csv', mode='w') as testF:\n",
        "      test_writer = csv.writer(testF, delimiter=',')\n",
        "      for question in data20:\n",
        "        test_writer.writerow(question)\n",
        "  print(len(data20))\n",
        "  files.download('test_questions.csv')\n",
        "  "
      ],
      "execution_count": 18,
      "outputs": [
        {
          "output_type": "stream",
          "text": [
            "20\n"
          ],
          "name": "stdout"
        }
      ]
    },
    {
      "metadata": {
        "id": "ZARgTWXmppBe",
        "colab_type": "code",
        "outputId": "f18733d9-67b1-42f1-eaba-0944865cb256",
        "colab": {
          "base_uri": "https://localhost:8080/",
          "height": 34
        }
      },
      "cell_type": "code",
      "source": [
        "# allData=sdata.values[:1000,:]\n",
        "# if not os.path.exists('test_questions1000.csv'):\n",
        "#   with open('test_questions1000.csv', mode='w') as testF:\n",
        "#       test_writer = csv.writer(testF, delimiter=',')\n",
        "#       for data in allData:\n",
        "#         test_writer.writerow(data)\n",
        "#   print(len(allData))\n",
        "#   files.download('test_questions1000.csv')\n"
      ],
      "execution_count": 0,
      "outputs": [
        {
          "output_type": "stream",
          "text": [
            "1000\n"
          ],
          "name": "stdout"
        }
      ]
    },
    {
      "metadata": {
        "id": "omMSVRC2x5m6",
        "colab_type": "code",
        "colab": {}
      },
      "cell_type": "code",
      "source": [
        ""
      ],
      "execution_count": 0,
      "outputs": []
    }
  ]
}