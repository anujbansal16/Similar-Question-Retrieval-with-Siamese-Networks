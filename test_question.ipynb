{
  "nbformat": 4,
  "nbformat_minor": 0,
  "metadata": {
    "colab": {
      "name": "test_question.ipynb",
      "version": "0.3.2",
      "provenance": [],
      "collapsed_sections": []
    },
    "kernelspec": {
      "name": "python3",
      "display_name": "Python 3"
    }
  },
  "cells": [
    {
      "metadata": {
        "id": "brQjlDQXm3wG",
        "colab_type": "code",
        "colab": {
          "base_uri": "https://localhost:8080/",
          "height": 50
        },
        "outputId": "4601f78a-7e10-498c-82f5-fea7391989c8"
      },
      "cell_type": "code",
      "source": [
        "import pandas as pd\n",
        "# Code to read csv file into Colaboratory:\n",
        "!pip install -U -q PyDrive\n",
        "import tensorflow as tf\n",
        "from pydrive.auth import GoogleAuth\n",
        "from pydrive.drive import GoogleDrive\n",
        "from google.colab import auth\n",
        "from oauth2client.client import GoogleCredentials\n",
        "import pandas as pd\n",
        "import pickle\n",
        "# Authenticate and create the PyDrive client.\n",
        "auth.authenticate_user()\n",
        "gauth = GoogleAuth()\n",
        "gauth.credentials = GoogleCredentials.get_application_default()\n",
        "drive = GoogleDrive(gauth)"
      ],
      "execution_count": 2,
      "outputs": [
        {
          "output_type": "stream",
          "text": [
            "\u001b[?25l\r\u001b[K    1% |▎                               | 10kB 20.1MB/s eta 0:00:01\r\u001b[K    2% |▋                               | 20kB 3.5MB/s eta 0:00:01\r\u001b[K    3% |█                               | 30kB 5.1MB/s eta 0:00:01\r\u001b[K    4% |█▎                              | 40kB 3.2MB/s eta 0:00:01\r\u001b[K    5% |█▋                              | 51kB 4.0MB/s eta 0:00:01\r\u001b[K    6% |██                              | 61kB 4.7MB/s eta 0:00:01\r\u001b[K    7% |██▎                             | 71kB 5.3MB/s eta 0:00:01\r\u001b[K    8% |██▋                             | 81kB 6.0MB/s eta 0:00:01\r\u001b[K    9% |███                             | 92kB 6.7MB/s eta 0:00:01\r\u001b[K    10% |███▎                            | 102kB 5.2MB/s eta 0:00:01\r\u001b[K    11% |███▋                            | 112kB 5.3MB/s eta 0:00:01\r\u001b[K    12% |████                            | 122kB 7.1MB/s eta 0:00:01\r\u001b[K    13% |████▎                           | 133kB 7.1MB/s eta 0:00:01\r\u001b[K    14% |████▋                           | 143kB 12.9MB/s eta 0:00:01\r\u001b[K    15% |█████                           | 153kB 13.1MB/s eta 0:00:01\r\u001b[K    16% |█████▎                          | 163kB 13.1MB/s eta 0:00:01\r\u001b[K    17% |█████▋                          | 174kB 13.2MB/s eta 0:00:01\r\u001b[K    18% |██████                          | 184kB 13.4MB/s eta 0:00:01\r\u001b[K    19% |██████▎                         | 194kB 13.3MB/s eta 0:00:01\r\u001b[K    20% |██████▋                         | 204kB 48.2MB/s eta 0:00:01\r\u001b[K    21% |███████                         | 215kB 15.3MB/s eta 0:00:01\r\u001b[K    22% |███████▎                        | 225kB 15.3MB/s eta 0:00:01\r\u001b[K    23% |███████▋                        | 235kB 15.6MB/s eta 0:00:01\r\u001b[K    24% |████████                        | 245kB 15.6MB/s eta 0:00:01\r\u001b[K    25% |████████▎                       | 256kB 15.5MB/s eta 0:00:01\r\u001b[K    26% |████████▋                       | 266kB 14.9MB/s eta 0:00:01\r\u001b[K    27% |█████████                       | 276kB 15.1MB/s eta 0:00:01\r\u001b[K    29% |█████████▎                      | 286kB 15.1MB/s eta 0:00:01\r\u001b[K    30% |█████████▋                      | 296kB 15.1MB/s eta 0:00:01\r\u001b[K    31% |██████████                      | 307kB 15.8MB/s eta 0:00:01\r\u001b[K    32% |██████████▎                     | 317kB 56.5MB/s eta 0:00:01\r\u001b[K    33% |██████████▋                     | 327kB 57.7MB/s eta 0:00:01\r\u001b[K    34% |███████████                     | 337kB 59.4MB/s eta 0:00:01\r\u001b[K    35% |███████████▎                    | 348kB 53.2MB/s eta 0:00:01\r\u001b[K    36% |███████████▋                    | 358kB 53.3MB/s eta 0:00:01\r\u001b[K    37% |████████████                    | 368kB 61.7MB/s eta 0:00:01\r\u001b[K    38% |████████████▎                   | 378kB 18.6MB/s eta 0:00:01\r\u001b[K    39% |████████████▋                   | 389kB 18.5MB/s eta 0:00:01\r\u001b[K    40% |█████████████                   | 399kB 16.9MB/s eta 0:00:01\r\u001b[K    41% |█████████████▎                  | 409kB 16.7MB/s eta 0:00:01\r\u001b[K    42% |█████████████▋                  | 419kB 16.7MB/s eta 0:00:01\r\u001b[K    43% |██████████████                  | 430kB 16.6MB/s eta 0:00:01\r\u001b[K    44% |██████████████▎                 | 440kB 16.6MB/s eta 0:00:01\r\u001b[K    45% |██████████████▋                 | 450kB 16.9MB/s eta 0:00:01\r\u001b[K    46% |███████████████                 | 460kB 16.8MB/s eta 0:00:01\r\u001b[K    47% |███████████████▎                | 471kB 16.9MB/s eta 0:00:01\r\u001b[K    48% |███████████████▋                | 481kB 46.7MB/s eta 0:00:01\r\u001b[K    49% |████████████████                | 491kB 47.7MB/s eta 0:00:01\r\u001b[K    50% |████████████████▎               | 501kB 63.6MB/s eta 0:00:01\r\u001b[K    51% |████████████████▋               | 512kB 60.2MB/s eta 0:00:01\r\u001b[K    52% |█████████████████               | 522kB 60.0MB/s eta 0:00:01\r\u001b[K    53% |█████████████████▎              | 532kB 60.6MB/s eta 0:00:01\r\u001b[K    54% |█████████████████▋              | 542kB 60.4MB/s eta 0:00:01\r\u001b[K    55% |██████████████████              | 552kB 67.5MB/s eta 0:00:01\r\u001b[K    57% |██████████████████▎             | 563kB 70.0MB/s eta 0:00:01\r\u001b[K    58% |██████████████████▋             | 573kB 69.1MB/s eta 0:00:01\r\u001b[K    59% |███████████████████             | 583kB 69.1MB/s eta 0:00:01\r\u001b[K    60% |███████████████████▎            | 593kB 69.7MB/s eta 0:00:01\r\u001b[K    61% |███████████████████▋            | 604kB 69.2MB/s eta 0:00:01\r\u001b[K    62% |████████████████████            | 614kB 78.5MB/s eta 0:00:01\r\u001b[K    63% |████████████████████▎           | 624kB 80.1MB/s eta 0:00:01\r\u001b[K    64% |████████████████████▋           | 634kB 80.7MB/s eta 0:00:01\r\u001b[K    65% |█████████████████████           | 645kB 81.2MB/s eta 0:00:01\r\u001b[K    66% |█████████████████████▎          | 655kB 79.6MB/s eta 0:00:01\r\u001b[K    67% |█████████████████████▋          | 665kB 56.9MB/s eta 0:00:01\r\u001b[K    68% |██████████████████████          | 675kB 56.4MB/s eta 0:00:01\r\u001b[K    69% |██████████████████████▎         | 686kB 56.7MB/s eta 0:00:01\r\u001b[K    70% |██████████████████████▋         | 696kB 56.5MB/s eta 0:00:01\r\u001b[K    71% |███████████████████████         | 706kB 56.1MB/s eta 0:00:01\r\u001b[K    72% |███████████████████████▎        | 716kB 55.9MB/s eta 0:00:01\r\u001b[K    73% |███████████████████████▋        | 727kB 55.7MB/s eta 0:00:01\r\u001b[K    74% |████████████████████████        | 737kB 55.6MB/s eta 0:00:01\r\u001b[K    75% |████████████████████████▎       | 747kB 56.0MB/s eta 0:00:01\r\u001b[K    76% |████████████████████████▋       | 757kB 34.3MB/s eta 0:00:01\r\u001b[K    77% |████████████████████████▉       | 768kB 40.8MB/s eta 0:00:01\r\u001b[K    78% |█████████████████████████▏      | 778kB 40.5MB/s eta 0:00:01\r\u001b[K    79% |█████████████████████████▌      | 788kB 39.6MB/s eta 0:00:01\r\u001b[K    80% |█████████████████████████▉      | 798kB 39.8MB/s eta 0:00:01\r\u001b[K    81% |██████████████████████████▏     | 808kB 39.6MB/s eta 0:00:01\r\u001b[K    82% |██████████████████████████▌     | 819kB 39.6MB/s eta 0:00:01\r\u001b[K    83% |██████████████████████████▉     | 829kB 39.6MB/s eta 0:00:01\r\u001b[K    85% |███████████████████████████▏    | 839kB 39.6MB/s eta 0:00:01\r\u001b[K    86% |███████████████████████████▌    | 849kB 39.5MB/s eta 0:00:01\r\u001b[K    87% |███████████████████████████▉    | 860kB 61.7MB/s eta 0:00:01\r\u001b[K    88% |████████████████████████████▏   | 870kB 61.3MB/s eta 0:00:01\r\u001b[K    89% |████████████████████████████▌   | 880kB 63.6MB/s eta 0:00:01\r\u001b[K    90% |████████████████████████████▉   | 890kB 64.8MB/s eta 0:00:01\r\u001b[K    91% |█████████████████████████████▏  | 901kB 64.4MB/s eta 0:00:01\r\u001b[K    92% |█████████████████████████████▌  | 911kB 65.2MB/s eta 0:00:01\r\u001b[K    93% |█████████████████████████████▉  | 921kB 65.4MB/s eta 0:00:01\r\u001b[K    94% |██████████████████████████████▏ | 931kB 66.3MB/s eta 0:00:01\r\u001b[K    95% |██████████████████████████████▌ | 942kB 66.6MB/s eta 0:00:01\r\u001b[K    96% |██████████████████████████████▉ | 952kB 66.5MB/s eta 0:00:01\r\u001b[K    97% |███████████████████████████████▏| 962kB 80.2MB/s eta 0:00:01\r\u001b[K    98% |███████████████████████████████▌| 972kB 82.2MB/s eta 0:00:01\r\u001b[K    99% |███████████████████████████████▉| 983kB 80.8MB/s eta 0:00:01\r\u001b[K    100% |████████████████████████████████| 993kB 22.7MB/s \n",
            "\u001b[?25h  Building wheel for PyDrive (setup.py) ... \u001b[?25ldone\n",
            "\u001b[?25h"
          ],
          "name": "stdout"
        }
      ]
    },
    {
      "metadata": {
        "id": "BUhMrUh-nQhI",
        "colab_type": "code",
        "colab": {
          "base_uri": "https://localhost:8080/",
          "height": 319
        },
        "outputId": "12d27e72-2b02-4c13-f24f-9f31a34ce9ee"
      },
      "cell_type": "code",
      "source": [
        "link=\"https://drive.google.com/open?id=17VMN5CJA05vTPEs15gw-W2ocxmEITQEH\"\n",
        "fluff, id = link.split('=')\n",
        "#print (id) # Verify that you have everything after '='\n",
        "\n",
        "downloaded = drive.CreateFile({'id':id}) \n",
        "downloaded.GetContentFile('100000minEng.csv')  \n",
        "sdata = pd.read_csv('100000minEng.csv',error_bad_lines=False)\n",
        "data20=sdata.sample(frac=20/100000).values\n",
        "questions=data20[:,1]\n",
        "print(questions)"
      ],
      "execution_count": 9,
      "outputs": [
        {
          "output_type": "stream",
          "text": [
            "['How do I go about figuring out what do with my life?'\n",
            " 'what is a laffy taffy?'\n",
            " 'What are the .dat and .cda music formats and how do you convert then to AAC?'\n",
            " '1995 pontiac am antifreeze type GM1825 is that Dex-Tron ?'\n",
            " 'If you have black wavy hair how can you make it curly ?'\n",
            " 'For external Hard drive enclosure or kits  what should the HD inside be set to?'\n",
            " 'why do you have to go school?' 'What color are the stairs?'\n",
            " 'I was being curious  how do you get rid of toe nail fungus and how do you know you have it?'\n",
            " 'How many people were in the March for Life in Washington DC Jan 23  2006?'\n",
            " 'the top ten stories of 2005?'\n",
            " 'About my last question regarding Maxwell Wheel.?'\n",
            " \"I can't access a certain website  what could be the cause of this?\"\n",
            " 'Who is the most sexy female singer?'\n",
            " 'What is the true color of our Blood?'\n",
            " 'Where can I find a detailed timeline for ancient India history?'\n",
            " 'If a word in the dictionary were misspelled  how would we know?'\n",
            " 'How many of you actually look like your avatars  and for how many of you is it just wishful thinking?'\n",
            " 'Do Coconuts Migrate?' 'Where can I buy a Smart Car?']\n"
          ],
          "name": "stdout"
        }
      ]
    },
    {
      "metadata": {
        "id": "Vb7qFu7mm_vP",
        "colab_type": "code",
        "colab": {}
      },
      "cell_type": "code",
      "source": [
        "# print(questions)\n",
        "#print(data20)\n",
        "import csv\n",
        "import os\n",
        "\n",
        "if not os.path.exists('test_questions.csv'):\n",
        "  with open('test_questions.csv', mode='w') as testF:\n",
        "      test_writer = csv.writer(testF, delimiter=',')\n",
        "      for question in data20:\n",
        "#         print(question)\n",
        "        test_writer.writerow(question)\n",
        "  print(len(data20)\n",
        "  files.download('test_questions.csv')\n",
        "  "
      ],
      "execution_count": 0,
      "outputs": []
    },
    {
      "metadata": {
        "id": "ZARgTWXmppBe",
        "colab_type": "code",
        "colab": {
          "base_uri": "https://localhost:8080/",
          "height": 34
        },
        "outputId": "f18733d9-67b1-42f1-eaba-0944865cb256"
      },
      "cell_type": "code",
      "source": [
        "allData=sdata.values[:1000,:]\n",
        "if not os.path.exists('test_questions1000.csv'):\n",
        "  with open('test_questions1000.csv', mode='w') as testF:\n",
        "      test_writer = csv.writer(testF, delimiter=',')\n",
        "      for data in allData:\n",
        "        test_writer.writerow(data)\n",
        "  print(len(allData))\n",
        "  files.download('test_questions1000.csv')\n"
      ],
      "execution_count": 34,
      "outputs": [
        {
          "output_type": "stream",
          "text": [
            "1000\n"
          ],
          "name": "stdout"
        }
      ]
    },
    {
      "metadata": {
        "id": "omMSVRC2x5m6",
        "colab_type": "code",
        "colab": {}
      },
      "cell_type": "code",
      "source": [
        ""
      ],
      "execution_count": 0,
      "outputs": []
    }
  ]
}