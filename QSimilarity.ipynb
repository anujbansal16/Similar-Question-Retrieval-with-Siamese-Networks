{
  "nbformat": 4,
  "nbformat_minor": 0,
  "metadata": {
    "colab": {
      "name": "QSimilarity.ipynb",
      "version": "0.3.2",
      "provenance": [],
      "include_colab_link": true
    },
    "language_info": {
      "codemirror_mode": {
        "name": "ipython",
        "version": 3
      },
      "file_extension": ".py",
      "mimetype": "text/x-python",
      "name": "python",
      "nbconvert_exporter": "python",
      "pygments_lexer": "ipython3",
      "version": "3.7.0"
    },
    "kernelspec": {
      "display_name": "Python 3",
      "language": "python",
      "name": "python3"
    }
  },
  "cells": [
    {
      "cell_type": "markdown",
      "metadata": {
        "id": "view-in-github",
        "colab_type": "text"
      },
      "source": [
        "<a href=\"https://colab.research.google.com/github/devloper13/SiameseNetworkProject/blob/master/QSimilarity.ipynb\" target=\"_parent\"><img src=\"https://colab.research.google.com/assets/colab-badge.svg\" alt=\"Open In Colab\"/></a>"
      ]
    },
    {
      "metadata": {
        "id": "CE06x8tQu6SM",
        "colab_type": "code",
        "colab": {},
        "outputId": "5956acbe-5f6e-4be1-e1c0-af8e1ece724b"
      },
      "cell_type": "code",
      "source": [
        "import nltk\n",
        "nltk.download('punkt')\n",
        "nltk.download('stopwords')\n",
        "from nltk.tokenize import word_tokenize\n",
        "from nltk.corpus import stopwords\n",
        "import numpy as np"
      ],
      "execution_count": 0,
      "outputs": [
        {
          "output_type": "stream",
          "text": [
            "[nltk_data] Downloading package punkt to /Users/rishabh/nltk_data...\n",
            "[nltk_data]   Package punkt is already up-to-date!\n",
            "[nltk_data] Downloading package stopwords to\n",
            "[nltk_data]     /Users/rishabh/nltk_data...\n",
            "[nltk_data]   Package stopwords is already up-to-date!\n"
          ],
          "name": "stderr"
        }
      ]
    },
    {
      "metadata": {
        "id": "yFT-2Dyxu6Sl",
        "colab_type": "code",
        "colab": {}
      },
      "cell_type": "code",
      "source": [
        "def preprocess(text):\n",
        "    tokens = word_tokenize(text)\n",
        "    tokenlower = [word.lower() for word in tokens]\n",
        "    \n",
        "    stopWords = set(stopwords.words('english'))\n",
        "    tokenlower = [word for word in stopWords if word not in stopWords]\n",
        "    \n",
        "    tokenDict = nltk.defaultdict(int)\n",
        "    for word in tokens:\n",
        "        tokenDict[word] += 1\n",
        "    return tokenDict    "
      ],
      "execution_count": 0,
      "outputs": []
    },
    {
      "metadata": {
        "id": "m6OsvFVVu6Sv",
        "colab_type": "code",
        "colab": {}
      },
      "cell_type": "code",
      "source": [
        "def cosDistance(v1,v2):\n",
        "    dotProduct = np.dot(v1,v2)\n",
        "    normV1 = np.linalg.norm(v1)\n",
        "    normV2 = np.linalg.norm(v2)\n",
        "#     print(dotProduct,normV1,normV2)\n",
        "    return dotProduct / (normV1 * normV2)\n",
        "\n",
        "def getSimilarity(vDict1,vDict2):\n",
        "    allWords = []\n",
        "    for key in vDict1:\n",
        "        allWords.append(key)\n",
        "    for key in vDict2:\n",
        "        allWords.append(key)\n",
        "    allWordsSize = len(allWords)\n",
        "    \n",
        "    v1 = np.zeros(allWordsSize,dtype=np.int)\n",
        "    v2 = np.zeros(allWordsSize,dtype=np.int)\n",
        "    \n",
        "    i = 0\n",
        "    for key in allWords:\n",
        "#         print(key)\n",
        "        v1[i] = vDict1.get(key, 0)\n",
        "        v2[i] = vDict2.get(key, 0)\n",
        "        i += 1\n",
        "#     print(v1,v2)    \n",
        "    return cosDistance(v1,v2)    \n",
        "        "
      ],
      "execution_count": 0,
      "outputs": []
    },
    {
      "metadata": {
        "id": "x91HlMvAu6S-",
        "colab_type": "code",
        "colab": {},
        "outputId": "797db949-f720-43b2-9121-5a350f4942e2"
      },
      "cell_type": "code",
      "source": [
        "doc1 = preprocess(\"Why are yawns contagious?\")\n",
        "doc2 = preprocess('Vacation rentals in the Turks and Caicos')\n",
        "\n",
        "getSimilarity(doc1,doc2)"
      ],
      "execution_count": 0,
      "outputs": [
        {
          "output_type": "execute_result",
          "data": {
            "text/plain": [
              "0.0"
            ]
          },
          "metadata": {
            "tags": []
          },
          "execution_count": 209
        }
      ]
    },
    {
      "metadata": {
        "id": "-j1Hv0wJu6TJ",
        "colab_type": "code",
        "colab": {}
      },
      "cell_type": "code",
      "source": [
        ""
      ],
      "execution_count": 0,
      "outputs": []
    }
  ]
}